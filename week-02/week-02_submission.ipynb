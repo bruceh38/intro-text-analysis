{
 "cells": [
  {
   "cell_type": "code",
   "execution_count": null,
   "metadata": {},
   "outputs": [],
   "source": []
  },
  {
   "cell_type": "markdown",
   "metadata": {},
   "source": [
    "Pausanias’ Description of Greece, Book 1, displays a trend of distribution of\n",
    "types, lemmas, and lexemes that correspond to his genre and style of writing.\n",
    "In type counts, excluding the common function words (”the”, ”of”, ”and”, ”to”,\n",
    "”a”...), ”he” and ”his” appear to be the more frequent words. The type ”he”\n",
    "has AF of 1849 and RF of 6785, while ”his” has AF of 1983 and RF of 7276. To\n",
    "compare, type ”her” has AF of 539 and RF of 1978. Meanwhile, type ”sanctuary”\n",
    "has AF of 605 and RF of 2220.\n",
    "In terms of the lemma, ”he” and ”his” have AF of 1872 and 1888, with RF\n",
    "6869 and 6928. Comparably, ”she” has AF of 322 and RF of 1182. Similar to\n",
    "the types analysis, ”sanctuary” has AF of 638 and RF of 2341. Different from\n",
    "previous analyses, ”city”, ”temple”, ”against”, ”Zeus”, ”Lacedaemonians”, and\n",
    "”Athenians” stood out in the lemma analysis.\n",
    "Regarding lexemes, similar observations including the dominance of ”his”, and\n",
    "”he” over ”her”, and the prevalence of ”city”, ”temple”, and ”sanctuary”, were\n",
    "found."
   ]
  },
  {
   "cell_type": "markdown",
   "metadata": {},
   "source": [
    "Pausanias’ ”Description of Greece”, the travelogue presenting details on ancient\n",
    "Greece’s cultural and geographic features, showcases a dominance of masculine\n",
    "and male figures and an absence of feminine characters. Pausanias’ work also\n",
    "focuses on Greece’s cities and sacred places reflecting religious beliefs and rituals.\n",
    "Such features were all supported by the result of textual analysis in terms\n",
    "of types, lemmas, lemmata, and lexemes.\n",
    "Pausanias’ work relies on a heavy indication of mythological figures, the majority\n",
    "of them being male characters. Aligning with the predominance of ”his” and\n",
    "”he” in types (AF: 1983, 1849; RF: 7276, 6785), lemmas(Af: 1888, 1872; RF:\n",
    "6928, 6869), and the lexeme(AF: 1990, 1872), the historical figures of ancient\n",
    "Greece are indeed mostly males. Detailed examples, such as Zeus and Heracles,\n",
    "was also featured in the lemma analysis, with AF 355, 302 and RF 1302, 1108.\n",
    "The gendered nature of ancient Greece is well-reflected by Pausanias’ narrative\n",
    "storytelling that is centered around male characters.\n",
    "The aforementioned conclusion of males being the center of narrations is also\n",
    "supported by the lack of female-related tokens. The lower frequency of ”her”\n",
    "with AF 539 and RF 1978 suggests that ancient Greece had little focus on female\n",
    "characters. Though certain female gods, such as Athena, were mentioned\n",
    "at a higher frequency(AF: 320, RF: 1174) than some male gods (Heracles), the\n",
    "overall frequency at which ”she”, ”her” appear is substantially lower than that\n",
    "of male pronouns. This finding indicates that the gendered nature of ancient\n",
    "Greece projects its impact on civilians to a greater extent than it does on gods.\n",
    "Besides the findings that suggest the gendered political and social environment,\n",
    "the heavy presence of ancient Greek religious beliefs is indicated by data analysis\n",
    "of Pausanias’ Description of Greece. The high frequency of ”sanctuary”\n",
    "(AF: 605, RF: 2220) clearly shows ancient Greeks’ religious worship of gods.\n",
    "This conclusion is also supported by the heavy presence of ancient Greek gods\n",
    "such as Zeus, Heracles, and Athena.\n",
    "Additionally, as a travel guide, Description of Greece focuses on cities, infrastructures,\n",
    "and their sacred institutions. This finding aligns with the frequent\n",
    "appearance of ”city” (AF: 530, RF: 1963), and ”temple” (AF: 449, RF: 1663).\n",
    "Within the general focus of city life, Pausanias could also have focused on social\n",
    "relationship between people and classes, as indicated by the word ”against”\n",
    "(AF: 435, RF: 1611). Political campaigns could be a potential topic Pausanias\n",
    "wanted to draw the readers’ attention to, as ”against” is used to depict the\n",
    "conflict between people often."
   ]
  }
 ],
 "metadata": {
  "language_info": {
   "name": "python"
  }
 },
 "nbformat": 4,
 "nbformat_minor": 2
}
