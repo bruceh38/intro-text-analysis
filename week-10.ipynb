{
 "cells": [
  {
   "cell_type": "markdown",
   "metadata": {},
   "source": [
    "# Intro to Quantitative Textual Analysis - Week 10\n",
    "\n",
    "## Diachronic corpora: Change over time (Brezina 2018, ch. 7)\n",
    "\n",
    "### Key terms\n",
    "\n",
    "- longitudinal study\n",
    "- diachronic corpora\n",
    "- lockwords\n",
    "- bootstrapping test\n",
    "\n",
    "### Visualization techniques\n",
    "\n",
    "- Line graph\n",
    "- Candlestick plot\n",
    "- Sparkline"
   ]
  },
  {
   "cell_type": "markdown",
   "metadata": {},
   "source": [
    "## Warm-up: N-grams\n",
    "\n",
    "By now, we're all familiar with some charts created through Google's [Ngram Viewer](https://books.google.com/ngrams/). But what do these charts actually show us, and what are there limitations?\n",
    "\n",
    "Search for a few terms of your choosing in the Ngram Viewer. Try changing the time scale or zooming in and out.\n",
    "\n",
    "With a partner or in small groups, discuss the following questions:\n",
    "\n",
    "1. What do these n-grams show us?\n",
    "2. What corpus are they using?\n",
    "3. What are the limitations of this kind of charting?\n",
    "4. What data are we missing for more sophisticated analyses?"
   ]
  },
  {
   "cell_type": "markdown",
   "metadata": {},
   "source": [
    "## Colors over time\n",
    "\n",
    "In the ./data directory, you'll find 'colours-data.csv', a CSV dataset provided by Brezina. Each row has the year, followed by the relative frequencies of several colors for that year. We'll use these data to practice visualizing change over time."
   ]
  },
  {
   "cell_type": "code",
   "execution_count": 3,
   "metadata": {},
   "outputs": [
    {
     "name": "stdout",
     "output_type": "stream",
     "text": [
      "Requirement already satisfied: altair in /Library/Frameworks/Python.framework/Versions/3.12/lib/python3.12/site-packages (5.5.0)\n",
      "Requirement already satisfied: pandas in /Library/Frameworks/Python.framework/Versions/3.12/lib/python3.12/site-packages (2.2.3)\n",
      "Requirement already satisfied: jinja2 in /Library/Frameworks/Python.framework/Versions/3.12/lib/python3.12/site-packages (from altair) (3.1.4)\n",
      "Requirement already satisfied: jsonschema>=3.0 in /Library/Frameworks/Python.framework/Versions/3.12/lib/python3.12/site-packages (from altair) (4.23.0)\n",
      "Requirement already satisfied: narwhals>=1.14.2 in /Library/Frameworks/Python.framework/Versions/3.12/lib/python3.12/site-packages (from altair) (1.14.2)\n",
      "Requirement already satisfied: packaging in /Users/newuser/Library/Python/3.12/lib/python/site-packages (from altair) (24.1)\n",
      "Requirement already satisfied: typing-extensions>=4.10.0 in /Library/Frameworks/Python.framework/Versions/3.12/lib/python3.12/site-packages (from altair) (4.12.2)\n",
      "Requirement already satisfied: numpy>=1.26.0 in /Library/Frameworks/Python.framework/Versions/3.12/lib/python3.12/site-packages (from pandas) (2.0.2)\n",
      "Requirement already satisfied: python-dateutil>=2.8.2 in /Users/newuser/Library/Python/3.12/lib/python/site-packages (from pandas) (2.9.0.post0)\n",
      "Requirement already satisfied: pytz>=2020.1 in /Library/Frameworks/Python.framework/Versions/3.12/lib/python3.12/site-packages (from pandas) (2024.2)\n",
      "Requirement already satisfied: tzdata>=2022.7 in /Library/Frameworks/Python.framework/Versions/3.12/lib/python3.12/site-packages (from pandas) (2024.2)\n",
      "Requirement already satisfied: attrs>=22.2.0 in /Library/Frameworks/Python.framework/Versions/3.12/lib/python3.12/site-packages (from jsonschema>=3.0->altair) (24.2.0)\n",
      "Requirement already satisfied: jsonschema-specifications>=2023.03.6 in /Library/Frameworks/Python.framework/Versions/3.12/lib/python3.12/site-packages (from jsonschema>=3.0->altair) (2024.10.1)\n",
      "Requirement already satisfied: referencing>=0.28.4 in /Library/Frameworks/Python.framework/Versions/3.12/lib/python3.12/site-packages (from jsonschema>=3.0->altair) (0.35.1)\n",
      "Requirement already satisfied: rpds-py>=0.7.1 in /Library/Frameworks/Python.framework/Versions/3.12/lib/python3.12/site-packages (from jsonschema>=3.0->altair) (0.20.1)\n",
      "Requirement already satisfied: six>=1.5 in /Users/newuser/Library/Python/3.12/lib/python/site-packages (from python-dateutil>=2.8.2->pandas) (1.16.0)\n",
      "Requirement already satisfied: MarkupSafe>=2.0 in /Library/Frameworks/Python.framework/Versions/3.12/lib/python3.12/site-packages (from jinja2->altair) (3.0.2)\n",
      "\n",
      "\u001b[1m[\u001b[0m\u001b[34;49mnotice\u001b[0m\u001b[1;39;49m]\u001b[0m\u001b[39;49m A new release of pip is available: \u001b[0m\u001b[31;49m24.2\u001b[0m\u001b[39;49m -> \u001b[0m\u001b[32;49m24.3.1\u001b[0m\n",
      "\u001b[1m[\u001b[0m\u001b[34;49mnotice\u001b[0m\u001b[1;39;49m]\u001b[0m\u001b[39;49m To update, run: \u001b[0m\u001b[32;49mpip3.12 install --upgrade pip\u001b[0m\n",
      "Note: you may need to restart the kernel to use updated packages.\n"
     ]
    }
   ],
   "source": [
    "# install dependencies\n",
    "%pip install altair pandas"
   ]
  },
  {
   "cell_type": "code",
   "execution_count": 4,
   "metadata": {},
   "outputs": [],
   "source": [
    "# import altair for visualization\n",
    "import altair as alt\n",
    "\n",
    "# import pandas for data-wrangling\n",
    "import pandas as pd"
   ]
  },
  {
   "cell_type": "code",
   "execution_count": 5,
   "metadata": {},
   "outputs": [
    {
     "data": {
      "text/html": [
       "<div>\n",
       "<style scoped>\n",
       "    .dataframe tbody tr th:only-of-type {\n",
       "        vertical-align: middle;\n",
       "    }\n",
       "\n",
       "    .dataframe tbody tr th {\n",
       "        vertical-align: top;\n",
       "    }\n",
       "\n",
       "    .dataframe thead th {\n",
       "        text-align: right;\n",
       "    }\n",
       "</style>\n",
       "<table border=\"1\" class=\"dataframe\">\n",
       "  <thead>\n",
       "    <tr style=\"text-align: right;\">\n",
       "      <th></th>\n",
       "      <th>Year</th>\n",
       "      <th>red</th>\n",
       "      <th>blue</th>\n",
       "      <th>green</th>\n",
       "      <th>yellow</th>\n",
       "      <th>orange</th>\n",
       "      <th>grey</th>\n",
       "    </tr>\n",
       "  </thead>\n",
       "  <tbody>\n",
       "    <tr>\n",
       "      <th>0</th>\n",
       "      <td>1600</td>\n",
       "      <td>38.13</td>\n",
       "      <td>0.15</td>\n",
       "      <td>33.34</td>\n",
       "      <td>6.28</td>\n",
       "      <td>6.28</td>\n",
       "      <td>1.05</td>\n",
       "    </tr>\n",
       "    <tr>\n",
       "      <th>1</th>\n",
       "      <td>1601</td>\n",
       "      <td>64.43</td>\n",
       "      <td>1.01</td>\n",
       "      <td>41.61</td>\n",
       "      <td>23.16</td>\n",
       "      <td>23.16</td>\n",
       "      <td>0.00</td>\n",
       "    </tr>\n",
       "    <tr>\n",
       "      <th>2</th>\n",
       "      <td>1602</td>\n",
       "      <td>45.30</td>\n",
       "      <td>1.20</td>\n",
       "      <td>21.79</td>\n",
       "      <td>7.38</td>\n",
       "      <td>7.38</td>\n",
       "      <td>0.34</td>\n",
       "    </tr>\n",
       "    <tr>\n",
       "      <th>3</th>\n",
       "      <td>1603</td>\n",
       "      <td>33.03</td>\n",
       "      <td>0.45</td>\n",
       "      <td>25.79</td>\n",
       "      <td>7.99</td>\n",
       "      <td>7.99</td>\n",
       "      <td>1.66</td>\n",
       "    </tr>\n",
       "    <tr>\n",
       "      <th>4</th>\n",
       "      <td>1604</td>\n",
       "      <td>24.60</td>\n",
       "      <td>0.96</td>\n",
       "      <td>21.33</td>\n",
       "      <td>3.46</td>\n",
       "      <td>3.46</td>\n",
       "      <td>2.69</td>\n",
       "    </tr>\n",
       "    <tr>\n",
       "      <th>...</th>\n",
       "      <td>...</td>\n",
       "      <td>...</td>\n",
       "      <td>...</td>\n",
       "      <td>...</td>\n",
       "      <td>...</td>\n",
       "      <td>...</td>\n",
       "      <td>...</td>\n",
       "    </tr>\n",
       "    <tr>\n",
       "      <th>95</th>\n",
       "      <td>1695</td>\n",
       "      <td>44.78</td>\n",
       "      <td>5.80</td>\n",
       "      <td>23.54</td>\n",
       "      <td>12.79</td>\n",
       "      <td>12.79</td>\n",
       "      <td>2.73</td>\n",
       "    </tr>\n",
       "    <tr>\n",
       "      <th>96</th>\n",
       "      <td>1696</td>\n",
       "      <td>37.30</td>\n",
       "      <td>5.27</td>\n",
       "      <td>31.43</td>\n",
       "      <td>15.35</td>\n",
       "      <td>15.35</td>\n",
       "      <td>3.20</td>\n",
       "    </tr>\n",
       "    <tr>\n",
       "      <th>97</th>\n",
       "      <td>1697</td>\n",
       "      <td>48.87</td>\n",
       "      <td>10.09</td>\n",
       "      <td>27.53</td>\n",
       "      <td>20.72</td>\n",
       "      <td>20.72</td>\n",
       "      <td>1.95</td>\n",
       "    </tr>\n",
       "    <tr>\n",
       "      <th>98</th>\n",
       "      <td>1698</td>\n",
       "      <td>57.86</td>\n",
       "      <td>5.20</td>\n",
       "      <td>28.54</td>\n",
       "      <td>13.52</td>\n",
       "      <td>13.52</td>\n",
       "      <td>2.47</td>\n",
       "    </tr>\n",
       "    <tr>\n",
       "      <th>99</th>\n",
       "      <td>1699</td>\n",
       "      <td>43.06</td>\n",
       "      <td>9.97</td>\n",
       "      <td>23.12</td>\n",
       "      <td>13.95</td>\n",
       "      <td>13.95</td>\n",
       "      <td>2.55</td>\n",
       "    </tr>\n",
       "  </tbody>\n",
       "</table>\n",
       "<p>100 rows × 7 columns</p>\n",
       "</div>"
      ],
      "text/plain": [
       "    Year    red   blue  green  yellow  orange  grey\n",
       "0   1600  38.13   0.15  33.34    6.28    6.28  1.05\n",
       "1   1601  64.43   1.01  41.61   23.16   23.16  0.00\n",
       "2   1602  45.30   1.20  21.79    7.38    7.38  0.34\n",
       "3   1603  33.03   0.45  25.79    7.99    7.99  1.66\n",
       "4   1604  24.60   0.96  21.33    3.46    3.46  2.69\n",
       "..   ...    ...    ...    ...     ...     ...   ...\n",
       "95  1695  44.78   5.80  23.54   12.79   12.79  2.73\n",
       "96  1696  37.30   5.27  31.43   15.35   15.35  3.20\n",
       "97  1697  48.87  10.09  27.53   20.72   20.72  1.95\n",
       "98  1698  57.86   5.20  28.54   13.52   13.52  2.47\n",
       "99  1699  43.06   9.97  23.12   13.95   13.95  2.55\n",
       "\n",
       "[100 rows x 7 columns]"
      ]
     },
     "execution_count": 5,
     "metadata": {},
     "output_type": "execute_result"
    }
   ],
   "source": [
    "# load the data\n",
    "colors_df = pd.read_csv(\"data/colours-data.csv\")\n",
    "colors_df\n"
   ]
  },
  {
   "cell_type": "code",
   "execution_count": 6,
   "metadata": {},
   "outputs": [],
   "source": [
    "# pivot the table for easier charting\n",
    "value_vars = colors_df.columns.to_list()[1:]\n",
    "by_color = pd.melt(\n",
    "    colors_df, id_vars=[\"Year\"], value_vars=value_vars, value_name=\"relative frequency\"\n",
    ").rename(columns={\"variable\": \"color\"})\n",
    "\n",
    "by_color['Year'] = by_color['Year'].astype(str)"
   ]
  },
  {
   "cell_type": "code",
   "execution_count": 7,
   "metadata": {},
   "outputs": [],
   "source": [
    "def decade(x: int):\n",
    "\n",
    "    return int(x)//10*10\n",
    "\n",
    "by_color['decade'] = by_color['Year'].apply(decade)"
   ]
  },
  {
   "cell_type": "code",
   "execution_count": 8,
   "metadata": {},
   "outputs": [
    {
     "data": {
      "text/html": [
       "\n",
       "<style>\n",
       "  #altair-viz-81ed6e40108243faa78fc2b89f782e31.vega-embed {\n",
       "    width: 100%;\n",
       "    display: flex;\n",
       "  }\n",
       "\n",
       "  #altair-viz-81ed6e40108243faa78fc2b89f782e31.vega-embed details,\n",
       "  #altair-viz-81ed6e40108243faa78fc2b89f782e31.vega-embed details summary {\n",
       "    position: relative;\n",
       "  }\n",
       "</style>\n",
       "<div id=\"altair-viz-81ed6e40108243faa78fc2b89f782e31\"></div>\n",
       "<script type=\"text/javascript\">\n",
       "  var VEGA_DEBUG = (typeof VEGA_DEBUG == \"undefined\") ? {} : VEGA_DEBUG;\n",
       "  (function(spec, embedOpt){\n",
       "    let outputDiv = document.currentScript.previousElementSibling;\n",
       "    if (outputDiv.id !== \"altair-viz-81ed6e40108243faa78fc2b89f782e31\") {\n",
       "      outputDiv = document.getElementById(\"altair-viz-81ed6e40108243faa78fc2b89f782e31\");\n",
       "    }\n",
       "\n",
       "    const paths = {\n",
       "      \"vega\": \"https://cdn.jsdelivr.net/npm/vega@5?noext\",\n",
       "      \"vega-lib\": \"https://cdn.jsdelivr.net/npm/vega-lib?noext\",\n",
       "      \"vega-lite\": \"https://cdn.jsdelivr.net/npm/vega-lite@5.20.1?noext\",\n",
       "      \"vega-embed\": \"https://cdn.jsdelivr.net/npm/vega-embed@6?noext\",\n",
       "    };\n",
       "\n",
       "    function maybeLoadScript(lib, version) {\n",
       "      var key = `${lib.replace(\"-\", \"\")}_version`;\n",
       "      return (VEGA_DEBUG[key] == version) ?\n",
       "        Promise.resolve(paths[lib]) :\n",
       "        new Promise(function(resolve, reject) {\n",
       "          var s = document.createElement('script');\n",
       "          document.getElementsByTagName(\"head\")[0].appendChild(s);\n",
       "          s.async = true;\n",
       "          s.onload = () => {\n",
       "            VEGA_DEBUG[key] = version;\n",
       "            return resolve(paths[lib]);\n",
       "          };\n",
       "          s.onerror = () => reject(`Error loading script: ${paths[lib]}`);\n",
       "          s.src = paths[lib];\n",
       "        });\n",
       "    }\n",
       "\n",
       "    function showError(err) {\n",
       "      outputDiv.innerHTML = `<div class=\"error\" style=\"color:red;\">${err}</div>`;\n",
       "      throw err;\n",
       "    }\n",
       "\n",
       "    function displayChart(vegaEmbed) {\n",
       "      vegaEmbed(outputDiv, spec, embedOpt)\n",
       "        .catch(err => showError(`Javascript Error: ${err.message}<br>This usually means there's a typo in your chart specification. See the javascript console for the full traceback.`));\n",
       "    }\n",
       "\n",
       "    if(typeof define === \"function\" && define.amd) {\n",
       "      requirejs.config({paths});\n",
       "      let deps = [\"vega-embed\"];\n",
       "      require(deps, displayChart, err => showError(`Error loading script: ${err.message}`));\n",
       "    } else {\n",
       "      maybeLoadScript(\"vega\", \"5\")\n",
       "        .then(() => maybeLoadScript(\"vega-lite\", \"5.20.1\"))\n",
       "        .then(() => maybeLoadScript(\"vega-embed\", \"6\"))\n",
       "        .catch(showError)\n",
       "        .then(() => displayChart(vegaEmbed));\n",
       "    }\n",
       "  })({\"config\": {\"view\": {\"continuousWidth\": 300, \"continuousHeight\": 300}}, \"data\": {\"name\": \"data-bf8c317b68862b80e1409aaa15309378\"}, \"mark\": {\"type\": \"line\", \"point\": {\"fill\": \"black\", \"filled\": false, \"tooltip\": true}}, \"encoding\": {\"color\": {\"field\": \"color\", \"scale\": null, \"type\": \"nominal\"}, \"x\": {\"field\": \"Year\", \"type\": \"temporal\"}, \"y\": {\"field\": \"relative frequency\", \"type\": \"quantitative\"}}, \"params\": [{\"name\": \"param_1\", \"select\": {\"type\": \"interval\", \"encodings\": [\"x\", \"y\"]}, \"bind\": \"scales\"}], \"width\": 1000, \"$schema\": \"https://vega.github.io/schema/vega-lite/v5.20.1.json\", \"datasets\": {\"data-bf8c317b68862b80e1409aaa15309378\": [{\"Year\": \"1600\", \"color\": \"red\", \"relative frequency\": 38.13, \"decade\": 1600}, {\"Year\": \"1601\", \"color\": \"red\", \"relative frequency\": 64.43, \"decade\": 1600}, {\"Year\": \"1602\", \"color\": \"red\", \"relative frequency\": 45.3, \"decade\": 1600}, {\"Year\": \"1603\", \"color\": \"red\", \"relative frequency\": 33.03, \"decade\": 1600}, {\"Year\": \"1604\", \"color\": \"red\", \"relative frequency\": 24.6, \"decade\": 1600}, {\"Year\": \"1605\", \"color\": \"red\", \"relative frequency\": 244.62, \"decade\": 1600}, {\"Year\": \"1606\", \"color\": \"red\", \"relative frequency\": 43.02, \"decade\": 1600}, {\"Year\": \"1607\", \"color\": \"red\", \"relative frequency\": 52.76, \"decade\": 1600}, {\"Year\": \"1608\", \"color\": \"red\", \"relative frequency\": 35.63, \"decade\": 1600}, {\"Year\": \"1609\", \"color\": \"red\", \"relative frequency\": 36.87, \"decade\": 1600}, {\"Year\": \"1610\", \"color\": \"red\", \"relative frequency\": 28.25, \"decade\": 1610}, {\"Year\": \"1611\", \"color\": \"red\", \"relative frequency\": 35.88, \"decade\": 1610}, {\"Year\": \"1612\", \"color\": \"red\", \"relative frequency\": 41.45, \"decade\": 1610}, {\"Year\": \"1613\", \"color\": \"red\", \"relative frequency\": 55.64, \"decade\": 1610}, {\"Year\": \"1614\", \"color\": \"red\", \"relative frequency\": 46.81, \"decade\": 1610}, {\"Year\": \"1615\", \"color\": \"red\", \"relative frequency\": 49.99, \"decade\": 1610}, {\"Year\": \"1616\", \"color\": \"red\", \"relative frequency\": 84.84, \"decade\": 1610}, {\"Year\": \"1617\", \"color\": \"red\", \"relative frequency\": 37.47, \"decade\": 1610}, {\"Year\": \"1618\", \"color\": \"red\", \"relative frequency\": 36.2, \"decade\": 1610}, {\"Year\": \"1619\", \"color\": \"red\", \"relative frequency\": 23.11, \"decade\": 1610}, {\"Year\": \"1620\", \"color\": \"red\", \"relative frequency\": 32.83, \"decade\": 1620}, {\"Year\": \"1621\", \"color\": \"red\", \"relative frequency\": 38.87, \"decade\": 1620}, {\"Year\": \"1622\", \"color\": \"red\", \"relative frequency\": 35.1, \"decade\": 1620}, {\"Year\": \"1623\", \"color\": \"red\", \"relative frequency\": 34.28, \"decade\": 1620}, {\"Year\": \"1624\", \"color\": \"red\", \"relative frequency\": 31.38, \"decade\": 1620}, {\"Year\": \"1625\", \"color\": \"red\", \"relative frequency\": 70.06, \"decade\": 1620}, {\"Year\": \"1626\", \"color\": \"red\", \"relative frequency\": 29.24, \"decade\": 1620}, {\"Year\": \"1627\", \"color\": \"red\", \"relative frequency\": 56.14, \"decade\": 1620}, {\"Year\": \"1628\", \"color\": \"red\", \"relative frequency\": 35.09, \"decade\": 1620}, {\"Year\": \"1629\", \"color\": \"red\", \"relative frequency\": 103.52, \"decade\": 1620}, {\"Year\": \"1630\", \"color\": \"red\", \"relative frequency\": 38.18, \"decade\": 1630}, {\"Year\": \"1631\", \"color\": \"red\", \"relative frequency\": 29.63, \"decade\": 1630}, {\"Year\": \"1632\", \"color\": \"red\", \"relative frequency\": 39.8, \"decade\": 1630}, {\"Year\": \"1633\", \"color\": \"red\", \"relative frequency\": 132.72, \"decade\": 1630}, {\"Year\": \"1634\", \"color\": \"red\", \"relative frequency\": 140.74, \"decade\": 1630}, {\"Year\": \"1635\", \"color\": \"red\", \"relative frequency\": 54.07, \"decade\": 1630}, {\"Year\": \"1636\", \"color\": \"red\", \"relative frequency\": 66.53, \"decade\": 1630}, {\"Year\": \"1637\", \"color\": \"red\", \"relative frequency\": 44.87, \"decade\": 1630}, {\"Year\": \"1638\", \"color\": \"red\", \"relative frequency\": 41.23, \"decade\": 1630}, {\"Year\": \"1639\", \"color\": \"red\", \"relative frequency\": 57.05, \"decade\": 1630}, {\"Year\": \"1640\", \"color\": \"red\", \"relative frequency\": 118.76, \"decade\": 1640}, {\"Year\": \"1641\", \"color\": \"red\", \"relative frequency\": 40.94, \"decade\": 1640}, {\"Year\": \"1642\", \"color\": \"red\", \"relative frequency\": 18.63, \"decade\": 1640}, {\"Year\": \"1643\", \"color\": \"red\", \"relative frequency\": 36.92, \"decade\": 1640}, {\"Year\": \"1644\", \"color\": \"red\", \"relative frequency\": 41.98, \"decade\": 1640}, {\"Year\": \"1645\", \"color\": \"red\", \"relative frequency\": 19.48, \"decade\": 1640}, {\"Year\": \"1646\", \"color\": \"red\", \"relative frequency\": 24.17, \"decade\": 1640}, {\"Year\": \"1647\", \"color\": \"red\", \"relative frequency\": 25.43, \"decade\": 1640}, {\"Year\": \"1648\", \"color\": \"red\", \"relative frequency\": 22.02, \"decade\": 1640}, {\"Year\": \"1649\", \"color\": \"red\", \"relative frequency\": 49.55, \"decade\": 1640}, {\"Year\": \"1650\", \"color\": \"red\", \"relative frequency\": 39.22, \"decade\": 1650}, {\"Year\": \"1651\", \"color\": \"red\", \"relative frequency\": 69.93, \"decade\": 1650}, {\"Year\": \"1652\", \"color\": \"red\", \"relative frequency\": 55.72, \"decade\": 1650}, {\"Year\": \"1653\", \"color\": \"red\", \"relative frequency\": 63.36, \"decade\": 1650}, {\"Year\": \"1654\", \"color\": \"red\", \"relative frequency\": 33.62, \"decade\": 1650}, {\"Year\": \"1655\", \"color\": \"red\", \"relative frequency\": 69.39, \"decade\": 1650}, {\"Year\": \"1656\", \"color\": \"red\", \"relative frequency\": 40.17, \"decade\": 1650}, {\"Year\": \"1657\", \"color\": \"red\", \"relative frequency\": 66.52, \"decade\": 1650}, {\"Year\": \"1658\", \"color\": \"red\", \"relative frequency\": 58.07, \"decade\": 1650}, {\"Year\": \"1659\", \"color\": \"red\", \"relative frequency\": 50.92, \"decade\": 1650}, {\"Year\": \"1660\", \"color\": \"red\", \"relative frequency\": 38.06, \"decade\": 1660}, {\"Year\": \"1661\", \"color\": \"red\", \"relative frequency\": 39.71, \"decade\": 1660}, {\"Year\": \"1662\", \"color\": \"red\", \"relative frequency\": 51.4, \"decade\": 1660}, {\"Year\": \"1663\", \"color\": \"red\", \"relative frequency\": 47.66, \"decade\": 1660}, {\"Year\": \"1664\", \"color\": \"red\", \"relative frequency\": 120.8, \"decade\": 1660}, {\"Year\": \"1665\", \"color\": \"red\", \"relative frequency\": 96.78, \"decade\": 1660}, {\"Year\": \"1666\", \"color\": \"red\", \"relative frequency\": 54.78, \"decade\": 1660}, {\"Year\": \"1667\", \"color\": \"red\", \"relative frequency\": 18.5, \"decade\": 1660}, {\"Year\": \"1668\", \"color\": \"red\", \"relative frequency\": 45.11, \"decade\": 1660}, {\"Year\": \"1669\", \"color\": \"red\", \"relative frequency\": 53.37, \"decade\": 1660}, {\"Year\": \"1670\", \"color\": \"red\", \"relative frequency\": 90.45, \"decade\": 1670}, {\"Year\": \"1671\", \"color\": \"red\", \"relative frequency\": 76.13, \"decade\": 1670}, {\"Year\": \"1672\", \"color\": \"red\", \"relative frequency\": 26.31, \"decade\": 1670}, {\"Year\": \"1673\", \"color\": \"red\", \"relative frequency\": 54.13, \"decade\": 1670}, {\"Year\": \"1674\", \"color\": \"red\", \"relative frequency\": 25.85, \"decade\": 1670}, {\"Year\": \"1675\", \"color\": \"red\", \"relative frequency\": 42.2, \"decade\": 1670}, {\"Year\": \"1676\", \"color\": \"red\", \"relative frequency\": 32.28, \"decade\": 1670}, {\"Year\": \"1677\", \"color\": \"red\", \"relative frequency\": 46.07, \"decade\": 1670}, {\"Year\": \"1678\", \"color\": \"red\", \"relative frequency\": 81.71, \"decade\": 1670}, {\"Year\": \"1679\", \"color\": \"red\", \"relative frequency\": 45.0, \"decade\": 1670}, {\"Year\": \"1680\", \"color\": \"red\", \"relative frequency\": 32.15, \"decade\": 1680}, {\"Year\": \"1681\", \"color\": \"red\", \"relative frequency\": 34.25, \"decade\": 1680}, {\"Year\": \"1682\", \"color\": \"red\", \"relative frequency\": 70.77, \"decade\": 1680}, {\"Year\": \"1683\", \"color\": \"red\", \"relative frequency\": 58.63, \"decade\": 1680}, {\"Year\": \"1684\", \"color\": \"red\", \"relative frequency\": 52.38, \"decade\": 1680}, {\"Year\": \"1685\", \"color\": \"red\", \"relative frequency\": 41.49, \"decade\": 1680}, {\"Year\": \"1686\", \"color\": \"red\", \"relative frequency\": 85.73, \"decade\": 1680}, {\"Year\": \"1687\", \"color\": \"red\", \"relative frequency\": 60.04, \"decade\": 1680}, {\"Year\": \"1688\", \"color\": \"red\", \"relative frequency\": 86.07, \"decade\": 1680}, {\"Year\": \"1689\", \"color\": \"red\", \"relative frequency\": 18.47, \"decade\": 1680}, {\"Year\": \"1690\", \"color\": \"red\", \"relative frequency\": 29.42, \"decade\": 1690}, {\"Year\": \"1691\", \"color\": \"red\", \"relative frequency\": 26.79, \"decade\": 1690}, {\"Year\": \"1692\", \"color\": \"red\", \"relative frequency\": 39.25, \"decade\": 1690}, {\"Year\": \"1693\", \"color\": \"red\", \"relative frequency\": 45.56, \"decade\": 1690}, {\"Year\": \"1694\", \"color\": \"red\", \"relative frequency\": 88.98, \"decade\": 1690}, {\"Year\": \"1695\", \"color\": \"red\", \"relative frequency\": 44.78, \"decade\": 1690}, {\"Year\": \"1696\", \"color\": \"red\", \"relative frequency\": 37.3, \"decade\": 1690}, {\"Year\": \"1697\", \"color\": \"red\", \"relative frequency\": 48.87, \"decade\": 1690}, {\"Year\": \"1698\", \"color\": \"red\", \"relative frequency\": 57.86, \"decade\": 1690}, {\"Year\": \"1699\", \"color\": \"red\", \"relative frequency\": 43.06, \"decade\": 1690}, {\"Year\": \"1600\", \"color\": \"blue\", \"relative frequency\": 0.15, \"decade\": 1600}, {\"Year\": \"1601\", \"color\": \"blue\", \"relative frequency\": 1.01, \"decade\": 1600}, {\"Year\": \"1602\", \"color\": \"blue\", \"relative frequency\": 1.2, \"decade\": 1600}, {\"Year\": \"1603\", \"color\": \"blue\", \"relative frequency\": 0.45, \"decade\": 1600}, {\"Year\": \"1604\", \"color\": \"blue\", \"relative frequency\": 0.96, \"decade\": 1600}, {\"Year\": \"1605\", \"color\": \"blue\", \"relative frequency\": 2.37, \"decade\": 1600}, {\"Year\": \"1606\", \"color\": \"blue\", \"relative frequency\": 0.85, \"decade\": 1600}, {\"Year\": \"1607\", \"color\": \"blue\", \"relative frequency\": 1.87, \"decade\": 1600}, {\"Year\": \"1608\", \"color\": \"blue\", \"relative frequency\": 0.54, \"decade\": 1600}, {\"Year\": \"1609\", \"color\": \"blue\", \"relative frequency\": 1.43, \"decade\": 1600}, {\"Year\": \"1610\", \"color\": \"blue\", \"relative frequency\": 0.45, \"decade\": 1610}, {\"Year\": \"1611\", \"color\": \"blue\", \"relative frequency\": 1.29, \"decade\": 1610}, {\"Year\": \"1612\", \"color\": \"blue\", \"relative frequency\": 0.7, \"decade\": 1610}, {\"Year\": \"1613\", \"color\": \"blue\", \"relative frequency\": 1.17, \"decade\": 1610}, {\"Year\": \"1614\", \"color\": \"blue\", \"relative frequency\": 0.45, \"decade\": 1610}, {\"Year\": \"1615\", \"color\": \"blue\", \"relative frequency\": 2.45, \"decade\": 1610}, {\"Year\": \"1616\", \"color\": \"blue\", \"relative frequency\": 3.28, \"decade\": 1610}, {\"Year\": \"1617\", \"color\": \"blue\", \"relative frequency\": 1.57, \"decade\": 1610}, {\"Year\": \"1618\", \"color\": \"blue\", \"relative frequency\": 1.13, \"decade\": 1610}, {\"Year\": \"1619\", \"color\": \"blue\", \"relative frequency\": 0.38, \"decade\": 1610}, {\"Year\": \"1620\", \"color\": \"blue\", \"relative frequency\": 0.49, \"decade\": 1620}, {\"Year\": \"1621\", \"color\": \"blue\", \"relative frequency\": 0.84, \"decade\": 1620}, {\"Year\": \"1622\", \"color\": \"blue\", \"relative frequency\": 1.75, \"decade\": 1620}, {\"Year\": \"1623\", \"color\": \"blue\", \"relative frequency\": 2.57, \"decade\": 1620}, {\"Year\": \"1624\", \"color\": \"blue\", \"relative frequency\": 8.09, \"decade\": 1620}, {\"Year\": \"1625\", \"color\": \"blue\", \"relative frequency\": 6.58, \"decade\": 1620}, {\"Year\": \"1626\", \"color\": \"blue\", \"relative frequency\": 0.62, \"decade\": 1620}, {\"Year\": \"1627\", \"color\": \"blue\", \"relative frequency\": 1.78, \"decade\": 1620}, {\"Year\": \"1628\", \"color\": \"blue\", \"relative frequency\": 2.83, \"decade\": 1620}, {\"Year\": \"1629\", \"color\": \"blue\", \"relative frequency\": 1.77, \"decade\": 1620}, {\"Year\": \"1630\", \"color\": \"blue\", \"relative frequency\": 6.39, \"decade\": 1630}, {\"Year\": \"1631\", \"color\": \"blue\", \"relative frequency\": 1.42, \"decade\": 1630}, {\"Year\": \"1632\", \"color\": \"blue\", \"relative frequency\": 1.11, \"decade\": 1630}, {\"Year\": \"1633\", \"color\": \"blue\", \"relative frequency\": 2.9, \"decade\": 1630}, {\"Year\": \"1634\", \"color\": \"blue\", \"relative frequency\": 2.05, \"decade\": 1630}, {\"Year\": \"1635\", \"color\": \"blue\", \"relative frequency\": 2.44, \"decade\": 1630}, {\"Year\": \"1636\", \"color\": \"blue\", \"relative frequency\": 1.26, \"decade\": 1630}, {\"Year\": \"1637\", \"color\": \"blue\", \"relative frequency\": 2.26, \"decade\": 1630}, {\"Year\": \"1638\", \"color\": \"blue\", \"relative frequency\": 0.84, \"decade\": 1630}, {\"Year\": \"1639\", \"color\": \"blue\", \"relative frequency\": 2.89, \"decade\": 1630}, {\"Year\": \"1640\", \"color\": \"blue\", \"relative frequency\": 7.24, \"decade\": 1640}, {\"Year\": \"1641\", \"color\": \"blue\", \"relative frequency\": 1.69, \"decade\": 1640}, {\"Year\": \"1642\", \"color\": \"blue\", \"relative frequency\": 1.16, \"decade\": 1640}, {\"Year\": \"1643\", \"color\": \"blue\", \"relative frequency\": 1.82, \"decade\": 1640}, {\"Year\": \"1644\", \"color\": \"blue\", \"relative frequency\": 2.43, \"decade\": 1640}, {\"Year\": \"1645\", \"color\": \"blue\", \"relative frequency\": 0.81, \"decade\": 1640}, {\"Year\": \"1646\", \"color\": \"blue\", \"relative frequency\": 1.59, \"decade\": 1640}, {\"Year\": \"1647\", \"color\": \"blue\", \"relative frequency\": 2.13, \"decade\": 1640}, {\"Year\": \"1648\", \"color\": \"blue\", \"relative frequency\": 1.38, \"decade\": 1640}, {\"Year\": \"1649\", \"color\": \"blue\", \"relative frequency\": 3.17, \"decade\": 1640}, {\"Year\": \"1650\", \"color\": \"blue\", \"relative frequency\": 1.27, \"decade\": 1650}, {\"Year\": \"1651\", \"color\": \"blue\", \"relative frequency\": 2.42, \"decade\": 1650}, {\"Year\": \"1652\", \"color\": \"blue\", \"relative frequency\": 4.6, \"decade\": 1650}, {\"Year\": \"1653\", \"color\": \"blue\", \"relative frequency\": 2.29, \"decade\": 1650}, {\"Year\": \"1654\", \"color\": \"blue\", \"relative frequency\": 1.08, \"decade\": 1650}, {\"Year\": \"1655\", \"color\": \"blue\", \"relative frequency\": 1.89, \"decade\": 1650}, {\"Year\": \"1656\", \"color\": \"blue\", \"relative frequency\": 1.19, \"decade\": 1650}, {\"Year\": \"1657\", \"color\": \"blue\", \"relative frequency\": 2.04, \"decade\": 1650}, {\"Year\": \"1658\", \"color\": \"blue\", \"relative frequency\": 1.96, \"decade\": 1650}, {\"Year\": \"1659\", \"color\": \"blue\", \"relative frequency\": 1.23, \"decade\": 1650}, {\"Year\": \"1660\", \"color\": \"blue\", \"relative frequency\": 1.08, \"decade\": 1660}, {\"Year\": \"1661\", \"color\": \"blue\", \"relative frequency\": 0.94, \"decade\": 1660}, {\"Year\": \"1662\", \"color\": \"blue\", \"relative frequency\": 1.61, \"decade\": 1660}, {\"Year\": \"1663\", \"color\": \"blue\", \"relative frequency\": 1.13, \"decade\": 1660}, {\"Year\": \"1664\", \"color\": \"blue\", \"relative frequency\": 0.35, \"decade\": 1660}, {\"Year\": \"1665\", \"color\": \"blue\", \"relative frequency\": 4.0, \"decade\": 1660}, {\"Year\": \"1666\", \"color\": \"blue\", \"relative frequency\": 5.4, \"decade\": 1660}, {\"Year\": \"1667\", \"color\": \"blue\", \"relative frequency\": 0.34, \"decade\": 1660}, {\"Year\": \"1668\", \"color\": \"blue\", \"relative frequency\": 5.89, \"decade\": 1660}, {\"Year\": \"1669\", \"color\": \"blue\", \"relative frequency\": 0.88, \"decade\": 1660}, {\"Year\": \"1670\", \"color\": \"blue\", \"relative frequency\": 3.91, \"decade\": 1670}, {\"Year\": \"1671\", \"color\": \"blue\", \"relative frequency\": 10.4, \"decade\": 1670}, {\"Year\": \"1672\", \"color\": \"blue\", \"relative frequency\": 0.75, \"decade\": 1670}, {\"Year\": \"1673\", \"color\": \"blue\", \"relative frequency\": 4.08, \"decade\": 1670}, {\"Year\": \"1674\", \"color\": \"blue\", \"relative frequency\": 1.04, \"decade\": 1670}, {\"Year\": \"1675\", \"color\": \"blue\", \"relative frequency\": 2.5, \"decade\": 1670}, {\"Year\": \"1676\", \"color\": \"blue\", \"relative frequency\": 1.37, \"decade\": 1670}, {\"Year\": \"1677\", \"color\": \"blue\", \"relative frequency\": 4.26, \"decade\": 1670}, {\"Year\": \"1678\", \"color\": \"blue\", \"relative frequency\": 20.73, \"decade\": 1670}, {\"Year\": \"1679\", \"color\": \"blue\", \"relative frequency\": 2.44, \"decade\": 1670}, {\"Year\": \"1680\", \"color\": \"blue\", \"relative frequency\": 1.61, \"decade\": 1680}, {\"Year\": \"1681\", \"color\": \"blue\", \"relative frequency\": 2.09, \"decade\": 1680}, {\"Year\": \"1682\", \"color\": \"blue\", \"relative frequency\": 3.77, \"decade\": 1680}, {\"Year\": \"1683\", \"color\": \"blue\", \"relative frequency\": 5.31, \"decade\": 1680}, {\"Year\": \"1684\", \"color\": \"blue\", \"relative frequency\": 1.96, \"decade\": 1680}, {\"Year\": \"1685\", \"color\": \"blue\", \"relative frequency\": 3.18, \"decade\": 1680}, {\"Year\": \"1686\", \"color\": \"blue\", \"relative frequency\": 10.04, \"decade\": 1680}, {\"Year\": \"1687\", \"color\": \"blue\", \"relative frequency\": 4.45, \"decade\": 1680}, {\"Year\": \"1688\", \"color\": \"blue\", \"relative frequency\": 10.71, \"decade\": 1680}, {\"Year\": \"1689\", \"color\": \"blue\", \"relative frequency\": 2.97, \"decade\": 1680}, {\"Year\": \"1690\", \"color\": \"blue\", \"relative frequency\": 5.67, \"decade\": 1690}, {\"Year\": \"1691\", \"color\": \"blue\", \"relative frequency\": 4.65, \"decade\": 1690}, {\"Year\": \"1692\", \"color\": \"blue\", \"relative frequency\": 5.23, \"decade\": 1690}, {\"Year\": \"1693\", \"color\": \"blue\", \"relative frequency\": 3.14, \"decade\": 1690}, {\"Year\": \"1694\", \"color\": \"blue\", \"relative frequency\": 6.38, \"decade\": 1690}, {\"Year\": \"1695\", \"color\": \"blue\", \"relative frequency\": 5.8, \"decade\": 1690}, {\"Year\": \"1696\", \"color\": \"blue\", \"relative frequency\": 5.27, \"decade\": 1690}, {\"Year\": \"1697\", \"color\": \"blue\", \"relative frequency\": 10.09, \"decade\": 1690}, {\"Year\": \"1698\", \"color\": \"blue\", \"relative frequency\": 5.2, \"decade\": 1690}, {\"Year\": \"1699\", \"color\": \"blue\", \"relative frequency\": 9.97, \"decade\": 1690}, {\"Year\": \"1600\", \"color\": \"green\", \"relative frequency\": 33.34, \"decade\": 1600}, {\"Year\": \"1601\", \"color\": \"green\", \"relative frequency\": 41.61, \"decade\": 1600}, {\"Year\": \"1602\", \"color\": \"green\", \"relative frequency\": 21.79, \"decade\": 1600}, {\"Year\": \"1603\", \"color\": \"green\", \"relative frequency\": 25.79, \"decade\": 1600}, {\"Year\": \"1604\", \"color\": \"green\", \"relative frequency\": 21.33, \"decade\": 1600}, {\"Year\": \"1605\", \"color\": \"green\", \"relative frequency\": 29.69, \"decade\": 1600}, {\"Year\": \"1606\", \"color\": \"green\", \"relative frequency\": 20.1, \"decade\": 1600}, {\"Year\": \"1607\", \"color\": \"green\", \"relative frequency\": 36.56, \"decade\": 1600}, {\"Year\": \"1608\", \"color\": \"green\", \"relative frequency\": 32.05, \"decade\": 1600}, {\"Year\": \"1609\", \"color\": \"green\", \"relative frequency\": 25.3, \"decade\": 1600}, {\"Year\": \"1610\", \"color\": \"green\", \"relative frequency\": 28.4, \"decade\": 1610}, {\"Year\": \"1611\", \"color\": \"green\", \"relative frequency\": 28.15, \"decade\": 1610}, {\"Year\": \"1612\", \"color\": \"green\", \"relative frequency\": 26.0, \"decade\": 1610}, {\"Year\": \"1613\", \"color\": \"green\", \"relative frequency\": 25.23, \"decade\": 1610}, {\"Year\": \"1614\", \"color\": \"green\", \"relative frequency\": 28.63, \"decade\": 1610}, {\"Year\": \"1615\", \"color\": \"green\", \"relative frequency\": 32.42, \"decade\": 1610}, {\"Year\": \"1616\", \"color\": \"green\", \"relative frequency\": 60.52, \"decade\": 1610}, {\"Year\": \"1617\", \"color\": \"green\", \"relative frequency\": 23.78, \"decade\": 1610}, {\"Year\": \"1618\", \"color\": \"green\", \"relative frequency\": 44.83, \"decade\": 1610}, {\"Year\": \"1619\", \"color\": \"green\", \"relative frequency\": 20.83, \"decade\": 1610}, {\"Year\": \"1620\", \"color\": \"green\", \"relative frequency\": 27.46, \"decade\": 1620}, {\"Year\": \"1621\", \"color\": \"green\", \"relative frequency\": 28.63, \"decade\": 1620}, {\"Year\": \"1622\", \"color\": \"green\", \"relative frequency\": 24.24, \"decade\": 1620}, {\"Year\": \"1623\", \"color\": \"green\", \"relative frequency\": 31.56, \"decade\": 1620}, {\"Year\": \"1624\", \"color\": \"green\", \"relative frequency\": 19.25, \"decade\": 1620}, {\"Year\": \"1625\", \"color\": \"green\", \"relative frequency\": 43.51, \"decade\": 1620}, {\"Year\": \"1626\", \"color\": \"green\", \"relative frequency\": 16.93, \"decade\": 1620}, {\"Year\": \"1627\", \"color\": \"green\", \"relative frequency\": 35.38, \"decade\": 1620}, {\"Year\": \"1628\", \"color\": \"green\", \"relative frequency\": 24.05, \"decade\": 1620}, {\"Year\": \"1629\", \"color\": \"green\", \"relative frequency\": 126.57, \"decade\": 1620}, {\"Year\": \"1630\", \"color\": \"green\", \"relative frequency\": 28.68, \"decade\": 1630}, {\"Year\": \"1631\", \"color\": \"green\", \"relative frequency\": 22.26, \"decade\": 1630}, {\"Year\": \"1632\", \"color\": \"green\", \"relative frequency\": 18.55, \"decade\": 1630}, {\"Year\": \"1633\", \"color\": \"green\", \"relative frequency\": 137.62, \"decade\": 1630}, {\"Year\": \"1634\", \"color\": \"green\", \"relative frequency\": 95.19, \"decade\": 1630}, {\"Year\": \"1635\", \"color\": \"green\", \"relative frequency\": 31.92, \"decade\": 1630}, {\"Year\": \"1636\", \"color\": \"green\", \"relative frequency\": 32.14, \"decade\": 1630}, {\"Year\": \"1637\", \"color\": \"green\", \"relative frequency\": 25.45, \"decade\": 1630}, {\"Year\": \"1638\", \"color\": \"green\", \"relative frequency\": 25.24, \"decade\": 1630}, {\"Year\": \"1639\", \"color\": \"green\", \"relative frequency\": 38.35, \"decade\": 1630}, {\"Year\": \"1640\", \"color\": \"green\", \"relative frequency\": 224.16, \"decade\": 1640}, {\"Year\": \"1641\", \"color\": \"green\", \"relative frequency\": 24.29, \"decade\": 1640}, {\"Year\": \"1642\", \"color\": \"green\", \"relative frequency\": 16.42, \"decade\": 1640}, {\"Year\": \"1643\", \"color\": \"green\", \"relative frequency\": 13.99, \"decade\": 1640}, {\"Year\": \"1644\", \"color\": \"green\", \"relative frequency\": 18.14, \"decade\": 1640}, {\"Year\": \"1645\", \"color\": \"green\", \"relative frequency\": 13.2, \"decade\": 1640}, {\"Year\": \"1646\", \"color\": \"green\", \"relative frequency\": 16.21, \"decade\": 1640}, {\"Year\": \"1647\", \"color\": \"green\", \"relative frequency\": 19.47, \"decade\": 1640}, {\"Year\": \"1648\", \"color\": \"green\", \"relative frequency\": 16.22, \"decade\": 1640}, {\"Year\": \"1649\", \"color\": \"green\", \"relative frequency\": 26.05, \"decade\": 1640}, {\"Year\": \"1650\", \"color\": \"green\", \"relative frequency\": 20.72, \"decade\": 1650}, {\"Year\": \"1651\", \"color\": \"green\", \"relative frequency\": 37.12, \"decade\": 1650}, {\"Year\": \"1652\", \"color\": \"green\", \"relative frequency\": 53.18, \"decade\": 1650}, {\"Year\": \"1653\", \"color\": \"green\", \"relative frequency\": 40.37, \"decade\": 1650}, {\"Year\": \"1654\", \"color\": \"green\", \"relative frequency\": 20.5, \"decade\": 1650}, {\"Year\": \"1655\", \"color\": \"green\", \"relative frequency\": 25.62, \"decade\": 1650}, {\"Year\": \"1656\", \"color\": \"green\", \"relative frequency\": 24.27, \"decade\": 1650}, {\"Year\": \"1657\", \"color\": \"green\", \"relative frequency\": 40.43, \"decade\": 1650}, {\"Year\": \"1658\", \"color\": \"green\", \"relative frequency\": 37.69, \"decade\": 1650}, {\"Year\": \"1659\", \"color\": \"green\", \"relative frequency\": 28.35, \"decade\": 1650}, {\"Year\": \"1660\", \"color\": \"green\", \"relative frequency\": 24.19, \"decade\": 1660}, {\"Year\": \"1661\", \"color\": \"green\", \"relative frequency\": 31.1, \"decade\": 1660}, {\"Year\": \"1662\", \"color\": \"green\", \"relative frequency\": 28.15, \"decade\": 1660}, {\"Year\": \"1663\", \"color\": \"green\", \"relative frequency\": 21.4, \"decade\": 1660}, {\"Year\": \"1664\", \"color\": \"green\", \"relative frequency\": 57.2, \"decade\": 1660}, {\"Year\": \"1665\", \"color\": \"green\", \"relative frequency\": 50.9, \"decade\": 1660}, {\"Year\": \"1666\", \"color\": \"green\", \"relative frequency\": 39.16, \"decade\": 1660}, {\"Year\": \"1667\", \"color\": \"green\", \"relative frequency\": 13.58, \"decade\": 1660}, {\"Year\": \"1668\", \"color\": \"green\", \"relative frequency\": 24.79, \"decade\": 1660}, {\"Year\": \"1669\", \"color\": \"green\", \"relative frequency\": 36.08, \"decade\": 1660}, {\"Year\": \"1670\", \"color\": \"green\", \"relative frequency\": 49.25, \"decade\": 1670}, {\"Year\": \"1671\", \"color\": \"green\", \"relative frequency\": 34.63, \"decade\": 1670}, {\"Year\": \"1672\", \"color\": \"green\", \"relative frequency\": 19.59, \"decade\": 1670}, {\"Year\": \"1673\", \"color\": \"green\", \"relative frequency\": 33.87, \"decade\": 1670}, {\"Year\": \"1674\", \"color\": \"green\", \"relative frequency\": 19.6, \"decade\": 1670}, {\"Year\": \"1675\", \"color\": \"green\", \"relative frequency\": 28.57, \"decade\": 1670}, {\"Year\": \"1676\", \"color\": \"green\", \"relative frequency\": 23.97, \"decade\": 1670}, {\"Year\": \"1677\", \"color\": \"green\", \"relative frequency\": 32.68, \"decade\": 1670}, {\"Year\": \"1678\", \"color\": \"green\", \"relative frequency\": 43.7, \"decade\": 1670}, {\"Year\": \"1679\", \"color\": \"green\", \"relative frequency\": 31.54, \"decade\": 1670}, {\"Year\": \"1680\", \"color\": \"green\", \"relative frequency\": 15.93, \"decade\": 1680}, {\"Year\": \"1681\", \"color\": \"green\", \"relative frequency\": 28.39, \"decade\": 1680}, {\"Year\": \"1682\", \"color\": \"green\", \"relative frequency\": 37.48, \"decade\": 1680}, {\"Year\": \"1683\", \"color\": \"green\", \"relative frequency\": 32.32, \"decade\": 1680}, {\"Year\": \"1684\", \"color\": \"green\", \"relative frequency\": 20.84, \"decade\": 1680}, {\"Year\": \"1685\", \"color\": \"green\", \"relative frequency\": 36.11, \"decade\": 1680}, {\"Year\": \"1686\", \"color\": \"green\", \"relative frequency\": 38.8, \"decade\": 1680}, {\"Year\": \"1687\", \"color\": \"green\", \"relative frequency\": 31.43, \"decade\": 1680}, {\"Year\": \"1688\", \"color\": \"green\", \"relative frequency\": 48.43, \"decade\": 1680}, {\"Year\": \"1689\", \"color\": \"green\", \"relative frequency\": 13.78, \"decade\": 1680}, {\"Year\": \"1690\", \"color\": \"green\", \"relative frequency\": 18.23, \"decade\": 1690}, {\"Year\": \"1691\", \"color\": \"green\", \"relative frequency\": 19.59, \"decade\": 1690}, {\"Year\": \"1692\", \"color\": \"green\", \"relative frequency\": 15.47, \"decade\": 1690}, {\"Year\": \"1693\", \"color\": \"green\", \"relative frequency\": 31.24, \"decade\": 1690}, {\"Year\": \"1694\", \"color\": \"green\", \"relative frequency\": 35.01, \"decade\": 1690}, {\"Year\": \"1695\", \"color\": \"green\", \"relative frequency\": 23.54, \"decade\": 1690}, {\"Year\": \"1696\", \"color\": \"green\", \"relative frequency\": 31.43, \"decade\": 1690}, {\"Year\": \"1697\", \"color\": \"green\", \"relative frequency\": 27.53, \"decade\": 1690}, {\"Year\": \"1698\", \"color\": \"green\", \"relative frequency\": 28.54, \"decade\": 1690}, {\"Year\": \"1699\", \"color\": \"green\", \"relative frequency\": 23.12, \"decade\": 1690}, {\"Year\": \"1600\", \"color\": \"yellow\", \"relative frequency\": 6.28, \"decade\": 1600}, {\"Year\": \"1601\", \"color\": \"yellow\", \"relative frequency\": 23.16, \"decade\": 1600}, {\"Year\": \"1602\", \"color\": \"yellow\", \"relative frequency\": 7.38, \"decade\": 1600}, {\"Year\": \"1603\", \"color\": \"yellow\", \"relative frequency\": 7.99, \"decade\": 1600}, {\"Year\": \"1604\", \"color\": \"yellow\", \"relative frequency\": 3.46, \"decade\": 1600}, {\"Year\": \"1605\", \"color\": \"yellow\", \"relative frequency\": 106.4, \"decade\": 1600}, {\"Year\": \"1606\", \"color\": \"yellow\", \"relative frequency\": 14.43, \"decade\": 1600}, {\"Year\": \"1607\", \"color\": \"yellow\", \"relative frequency\": 17.01, \"decade\": 1600}, {\"Year\": \"1608\", \"color\": \"yellow\", \"relative frequency\": 11.1, \"decade\": 1600}, {\"Year\": \"1609\", \"color\": \"yellow\", \"relative frequency\": 9.62, \"decade\": 1600}, {\"Year\": \"1610\", \"color\": \"yellow\", \"relative frequency\": 13.97, \"decade\": 1610}, {\"Year\": \"1611\", \"color\": \"yellow\", \"relative frequency\": 14.35, \"decade\": 1610}, {\"Year\": \"1612\", \"color\": \"yellow\", \"relative frequency\": 9.72, \"decade\": 1610}, {\"Year\": \"1613\", \"color\": \"yellow\", \"relative frequency\": 15.71, \"decade\": 1610}, {\"Year\": \"1614\", \"color\": \"yellow\", \"relative frequency\": 10.59, \"decade\": 1610}, {\"Year\": \"1615\", \"color\": \"yellow\", \"relative frequency\": 28.61, \"decade\": 1610}, {\"Year\": \"1616\", \"color\": \"yellow\", \"relative frequency\": 31.04, \"decade\": 1610}, {\"Year\": \"1617\", \"color\": \"yellow\", \"relative frequency\": 10.1, \"decade\": 1610}, {\"Year\": \"1618\", \"color\": \"yellow\", \"relative frequency\": 19.13, \"decade\": 1610}, {\"Year\": \"1619\", \"color\": \"yellow\", \"relative frequency\": 4.73, \"decade\": 1610}, {\"Year\": \"1620\", \"color\": \"yellow\", \"relative frequency\": 10.08, \"decade\": 1620}, {\"Year\": \"1621\", \"color\": \"yellow\", \"relative frequency\": 14.42, \"decade\": 1620}, {\"Year\": \"1622\", \"color\": \"yellow\", \"relative frequency\": 11.64, \"decade\": 1620}, {\"Year\": \"1623\", \"color\": \"yellow\", \"relative frequency\": 9.67, \"decade\": 1620}, {\"Year\": \"1624\", \"color\": \"yellow\", \"relative frequency\": 5.01, \"decade\": 1620}, {\"Year\": \"1625\", \"color\": \"yellow\", \"relative frequency\": 21.47, \"decade\": 1620}, {\"Year\": \"1626\", \"color\": \"yellow\", \"relative frequency\": 8.62, \"decade\": 1620}, {\"Year\": \"1627\", \"color\": \"yellow\", \"relative frequency\": 9.49, \"decade\": 1620}, {\"Year\": \"1628\", \"color\": \"yellow\", \"relative frequency\": 10.75, \"decade\": 1620}, {\"Year\": \"1629\", \"color\": \"yellow\", \"relative frequency\": 134.62, \"decade\": 1620}, {\"Year\": \"1630\", \"color\": \"yellow\", \"relative frequency\": 9.01, \"decade\": 1630}, {\"Year\": \"1631\", \"color\": \"yellow\", \"relative frequency\": 9.07, \"decade\": 1630}, {\"Year\": \"1632\", \"color\": \"yellow\", \"relative frequency\": 5.65, \"decade\": 1630}, {\"Year\": \"1633\", \"color\": \"yellow\", \"relative frequency\": 138.29, \"decade\": 1630}, {\"Year\": \"1634\", \"color\": \"yellow\", \"relative frequency\": 40.09, \"decade\": 1630}, {\"Year\": \"1635\", \"color\": \"yellow\", \"relative frequency\": 13.52, \"decade\": 1630}, {\"Year\": \"1636\", \"color\": \"yellow\", \"relative frequency\": 8.54, \"decade\": 1630}, {\"Year\": \"1637\", \"color\": \"yellow\", \"relative frequency\": 16.4, \"decade\": 1630}, {\"Year\": \"1638\", \"color\": \"yellow\", \"relative frequency\": 8.41, \"decade\": 1630}, {\"Year\": \"1639\", \"color\": \"yellow\", \"relative frequency\": 15.03, \"decade\": 1630}, {\"Year\": \"1640\", \"color\": \"yellow\", \"relative frequency\": 189.6, \"decade\": 1640}, {\"Year\": \"1641\", \"color\": \"yellow\", \"relative frequency\": 11.0, \"decade\": 1640}, {\"Year\": \"1642\", \"color\": \"yellow\", \"relative frequency\": 2.91, \"decade\": 1640}, {\"Year\": \"1643\", \"color\": \"yellow\", \"relative frequency\": 3.36, \"decade\": 1640}, {\"Year\": \"1644\", \"color\": \"yellow\", \"relative frequency\": 6.43, \"decade\": 1640}, {\"Year\": \"1645\", \"color\": \"yellow\", \"relative frequency\": 1.45, \"decade\": 1640}, {\"Year\": \"1646\", \"color\": \"yellow\", \"relative frequency\": 2.69, \"decade\": 1640}, {\"Year\": \"1647\", \"color\": \"yellow\", \"relative frequency\": 2.55, \"decade\": 1640}, {\"Year\": \"1648\", \"color\": \"yellow\", \"relative frequency\": 3.64, \"decade\": 1640}, {\"Year\": \"1649\", \"color\": \"yellow\", \"relative frequency\": 15.46, \"decade\": 1640}, {\"Year\": \"1650\", \"color\": \"yellow\", \"relative frequency\": 5.48, \"decade\": 1650}, {\"Year\": \"1651\", \"color\": \"yellow\", \"relative frequency\": 25.99, \"decade\": 1650}, {\"Year\": \"1652\", \"color\": \"yellow\", \"relative frequency\": 24.53, \"decade\": 1650}, {\"Year\": \"1653\", \"color\": \"yellow\", \"relative frequency\": 23.54, \"decade\": 1650}, {\"Year\": \"1654\", \"color\": \"yellow\", \"relative frequency\": 7.39, \"decade\": 1650}, {\"Year\": \"1655\", \"color\": \"yellow\", \"relative frequency\": 18.3, \"decade\": 1650}, {\"Year\": \"1656\", \"color\": \"yellow\", \"relative frequency\": 15.03, \"decade\": 1650}, {\"Year\": \"1657\", \"color\": \"yellow\", \"relative frequency\": 26.79, \"decade\": 1650}, {\"Year\": \"1658\", \"color\": \"yellow\", \"relative frequency\": 25.43, \"decade\": 1650}, {\"Year\": \"1659\", \"color\": \"yellow\", \"relative frequency\": 16.83, \"decade\": 1650}, {\"Year\": \"1660\", \"color\": \"yellow\", \"relative frequency\": 10.17, \"decade\": 1660}, {\"Year\": \"1661\", \"color\": \"yellow\", \"relative frequency\": 10.21, \"decade\": 1660}, {\"Year\": \"1662\", \"color\": \"yellow\", \"relative frequency\": 13.61, \"decade\": 1660}, {\"Year\": \"1663\", \"color\": \"yellow\", \"relative frequency\": 13.02, \"decade\": 1660}, {\"Year\": \"1664\", \"color\": \"yellow\", \"relative frequency\": 65.36, \"decade\": 1660}, {\"Year\": \"1665\", \"color\": \"yellow\", \"relative frequency\": 57.23, \"decade\": 1660}, {\"Year\": \"1666\", \"color\": \"yellow\", \"relative frequency\": 24.88, \"decade\": 1660}, {\"Year\": \"1667\", \"color\": \"yellow\", \"relative frequency\": 4.07, \"decade\": 1660}, {\"Year\": \"1668\", \"color\": \"yellow\", \"relative frequency\": 15.1, \"decade\": 1660}, {\"Year\": \"1669\", \"color\": \"yellow\", \"relative frequency\": 18.79, \"decade\": 1660}, {\"Year\": \"1670\", \"color\": \"yellow\", \"relative frequency\": 36.86, \"decade\": 1670}, {\"Year\": \"1671\", \"color\": \"yellow\", \"relative frequency\": 25.63, \"decade\": 1670}, {\"Year\": \"1672\", \"color\": \"yellow\", \"relative frequency\": 9.52, \"decade\": 1670}, {\"Year\": \"1673\", \"color\": \"yellow\", \"relative frequency\": 33.87, \"decade\": 1670}, {\"Year\": \"1674\", \"color\": \"yellow\", \"relative frequency\": 9.28, \"decade\": 1670}, {\"Year\": \"1675\", \"color\": \"yellow\", \"relative frequency\": 17.99, \"decade\": 1670}, {\"Year\": \"1676\", \"color\": \"yellow\", \"relative frequency\": 12.98, \"decade\": 1670}, {\"Year\": \"1677\", \"color\": \"yellow\", \"relative frequency\": 19.38, \"decade\": 1670}, {\"Year\": \"1678\", \"color\": \"yellow\", \"relative frequency\": 65.2, \"decade\": 1670}, {\"Year\": \"1679\", \"color\": \"yellow\", \"relative frequency\": 15.5, \"decade\": 1670}, {\"Year\": \"1680\", \"color\": \"yellow\", \"relative frequency\": 7.53, \"decade\": 1680}, {\"Year\": \"1681\", \"color\": \"yellow\", \"relative frequency\": 13.75, \"decade\": 1680}, {\"Year\": \"1682\", \"color\": \"yellow\", \"relative frequency\": 36.4, \"decade\": 1680}, {\"Year\": \"1683\", \"color\": \"yellow\", \"relative frequency\": 21.17, \"decade\": 1680}, {\"Year\": \"1684\", \"color\": \"yellow\", \"relative frequency\": 18.77, \"decade\": 1680}, {\"Year\": \"1685\", \"color\": \"yellow\", \"relative frequency\": 20.9, \"decade\": 1680}, {\"Year\": \"1686\", \"color\": \"yellow\", \"relative frequency\": 31.19, \"decade\": 1680}, {\"Year\": \"1687\", \"color\": \"yellow\", \"relative frequency\": 17.99, \"decade\": 1680}, {\"Year\": \"1688\", \"color\": \"yellow\", \"relative frequency\": 77.89, \"decade\": 1680}, {\"Year\": \"1689\", \"color\": \"yellow\", \"relative frequency\": 5.05, \"decade\": 1680}, {\"Year\": \"1690\", \"color\": \"yellow\", \"relative frequency\": 14.55, \"decade\": 1690}, {\"Year\": \"1691\", \"color\": \"yellow\", \"relative frequency\": 4.1, \"decade\": 1690}, {\"Year\": \"1692\", \"color\": \"yellow\", \"relative frequency\": 7.45, \"decade\": 1690}, {\"Year\": \"1693\", \"color\": \"yellow\", \"relative frequency\": 20.6, \"decade\": 1690}, {\"Year\": \"1694\", \"color\": \"yellow\", \"relative frequency\": 39.82, \"decade\": 1690}, {\"Year\": \"1695\", \"color\": \"yellow\", \"relative frequency\": 12.79, \"decade\": 1690}, {\"Year\": \"1696\", \"color\": \"yellow\", \"relative frequency\": 15.35, \"decade\": 1690}, {\"Year\": \"1697\", \"color\": \"yellow\", \"relative frequency\": 20.72, \"decade\": 1690}, {\"Year\": \"1698\", \"color\": \"yellow\", \"relative frequency\": 13.52, \"decade\": 1690}, {\"Year\": \"1699\", \"color\": \"yellow\", \"relative frequency\": 13.95, \"decade\": 1690}, {\"Year\": \"1600\", \"color\": \"orange\", \"relative frequency\": 6.28, \"decade\": 1600}, {\"Year\": \"1601\", \"color\": \"orange\", \"relative frequency\": 23.16, \"decade\": 1600}, {\"Year\": \"1602\", \"color\": \"orange\", \"relative frequency\": 7.38, \"decade\": 1600}, {\"Year\": \"1603\", \"color\": \"orange\", \"relative frequency\": 7.99, \"decade\": 1600}, {\"Year\": \"1604\", \"color\": \"orange\", \"relative frequency\": 3.46, \"decade\": 1600}, {\"Year\": \"1605\", \"color\": \"orange\", \"relative frequency\": 106.4, \"decade\": 1600}, {\"Year\": \"1606\", \"color\": \"orange\", \"relative frequency\": 14.43, \"decade\": 1600}, {\"Year\": \"1607\", \"color\": \"orange\", \"relative frequency\": 17.01, \"decade\": 1600}, {\"Year\": \"1608\", \"color\": \"orange\", \"relative frequency\": 11.1, \"decade\": 1600}, {\"Year\": \"1609\", \"color\": \"orange\", \"relative frequency\": 9.62, \"decade\": 1600}, {\"Year\": \"1610\", \"color\": \"orange\", \"relative frequency\": 13.97, \"decade\": 1610}, {\"Year\": \"1611\", \"color\": \"orange\", \"relative frequency\": 14.35, \"decade\": 1610}, {\"Year\": \"1612\", \"color\": \"orange\", \"relative frequency\": 9.72, \"decade\": 1610}, {\"Year\": \"1613\", \"color\": \"orange\", \"relative frequency\": 15.71, \"decade\": 1610}, {\"Year\": \"1614\", \"color\": \"orange\", \"relative frequency\": 10.59, \"decade\": 1610}, {\"Year\": \"1615\", \"color\": \"orange\", \"relative frequency\": 28.61, \"decade\": 1610}, {\"Year\": \"1616\", \"color\": \"orange\", \"relative frequency\": 31.04, \"decade\": 1610}, {\"Year\": \"1617\", \"color\": \"orange\", \"relative frequency\": 10.1, \"decade\": 1610}, {\"Year\": \"1618\", \"color\": \"orange\", \"relative frequency\": 19.13, \"decade\": 1610}, {\"Year\": \"1619\", \"color\": \"orange\", \"relative frequency\": 4.73, \"decade\": 1610}, {\"Year\": \"1620\", \"color\": \"orange\", \"relative frequency\": 10.08, \"decade\": 1620}, {\"Year\": \"1621\", \"color\": \"orange\", \"relative frequency\": 14.42, \"decade\": 1620}, {\"Year\": \"1622\", \"color\": \"orange\", \"relative frequency\": 11.64, \"decade\": 1620}, {\"Year\": \"1623\", \"color\": \"orange\", \"relative frequency\": 9.67, \"decade\": 1620}, {\"Year\": \"1624\", \"color\": \"orange\", \"relative frequency\": 5.01, \"decade\": 1620}, {\"Year\": \"1625\", \"color\": \"orange\", \"relative frequency\": 21.47, \"decade\": 1620}, {\"Year\": \"1626\", \"color\": \"orange\", \"relative frequency\": 8.62, \"decade\": 1620}, {\"Year\": \"1627\", \"color\": \"orange\", \"relative frequency\": 9.49, \"decade\": 1620}, {\"Year\": \"1628\", \"color\": \"orange\", \"relative frequency\": 10.75, \"decade\": 1620}, {\"Year\": \"1629\", \"color\": \"orange\", \"relative frequency\": 134.62, \"decade\": 1620}, {\"Year\": \"1630\", \"color\": \"orange\", \"relative frequency\": 9.01, \"decade\": 1630}, {\"Year\": \"1631\", \"color\": \"orange\", \"relative frequency\": 9.07, \"decade\": 1630}, {\"Year\": \"1632\", \"color\": \"orange\", \"relative frequency\": 5.65, \"decade\": 1630}, {\"Year\": \"1633\", \"color\": \"orange\", \"relative frequency\": 138.29, \"decade\": 1630}, {\"Year\": \"1634\", \"color\": \"orange\", \"relative frequency\": 40.09, \"decade\": 1630}, {\"Year\": \"1635\", \"color\": \"orange\", \"relative frequency\": 13.52, \"decade\": 1630}, {\"Year\": \"1636\", \"color\": \"orange\", \"relative frequency\": 8.54, \"decade\": 1630}, {\"Year\": \"1637\", \"color\": \"orange\", \"relative frequency\": 16.4, \"decade\": 1630}, {\"Year\": \"1638\", \"color\": \"orange\", \"relative frequency\": 8.41, \"decade\": 1630}, {\"Year\": \"1639\", \"color\": \"orange\", \"relative frequency\": 15.03, \"decade\": 1630}, {\"Year\": \"1640\", \"color\": \"orange\", \"relative frequency\": 189.6, \"decade\": 1640}, {\"Year\": \"1641\", \"color\": \"orange\", \"relative frequency\": 11.0, \"decade\": 1640}, {\"Year\": \"1642\", \"color\": \"orange\", \"relative frequency\": 2.91, \"decade\": 1640}, {\"Year\": \"1643\", \"color\": \"orange\", \"relative frequency\": 3.36, \"decade\": 1640}, {\"Year\": \"1644\", \"color\": \"orange\", \"relative frequency\": 6.43, \"decade\": 1640}, {\"Year\": \"1645\", \"color\": \"orange\", \"relative frequency\": 1.45, \"decade\": 1640}, {\"Year\": \"1646\", \"color\": \"orange\", \"relative frequency\": 2.69, \"decade\": 1640}, {\"Year\": \"1647\", \"color\": \"orange\", \"relative frequency\": 2.55, \"decade\": 1640}, {\"Year\": \"1648\", \"color\": \"orange\", \"relative frequency\": 3.64, \"decade\": 1640}, {\"Year\": \"1649\", \"color\": \"orange\", \"relative frequency\": 15.46, \"decade\": 1640}, {\"Year\": \"1650\", \"color\": \"orange\", \"relative frequency\": 5.48, \"decade\": 1650}, {\"Year\": \"1651\", \"color\": \"orange\", \"relative frequency\": 25.99, \"decade\": 1650}, {\"Year\": \"1652\", \"color\": \"orange\", \"relative frequency\": 24.53, \"decade\": 1650}, {\"Year\": \"1653\", \"color\": \"orange\", \"relative frequency\": 23.54, \"decade\": 1650}, {\"Year\": \"1654\", \"color\": \"orange\", \"relative frequency\": 7.39, \"decade\": 1650}, {\"Year\": \"1655\", \"color\": \"orange\", \"relative frequency\": 18.3, \"decade\": 1650}, {\"Year\": \"1656\", \"color\": \"orange\", \"relative frequency\": 15.03, \"decade\": 1650}, {\"Year\": \"1657\", \"color\": \"orange\", \"relative frequency\": 26.79, \"decade\": 1650}, {\"Year\": \"1658\", \"color\": \"orange\", \"relative frequency\": 25.43, \"decade\": 1650}, {\"Year\": \"1659\", \"color\": \"orange\", \"relative frequency\": 16.83, \"decade\": 1650}, {\"Year\": \"1660\", \"color\": \"orange\", \"relative frequency\": 10.17, \"decade\": 1660}, {\"Year\": \"1661\", \"color\": \"orange\", \"relative frequency\": 10.21, \"decade\": 1660}, {\"Year\": \"1662\", \"color\": \"orange\", \"relative frequency\": 13.61, \"decade\": 1660}, {\"Year\": \"1663\", \"color\": \"orange\", \"relative frequency\": 13.02, \"decade\": 1660}, {\"Year\": \"1664\", \"color\": \"orange\", \"relative frequency\": 65.36, \"decade\": 1660}, {\"Year\": \"1665\", \"color\": \"orange\", \"relative frequency\": 57.23, \"decade\": 1660}, {\"Year\": \"1666\", \"color\": \"orange\", \"relative frequency\": 24.88, \"decade\": 1660}, {\"Year\": \"1667\", \"color\": \"orange\", \"relative frequency\": 4.07, \"decade\": 1660}, {\"Year\": \"1668\", \"color\": \"orange\", \"relative frequency\": 15.1, \"decade\": 1660}, {\"Year\": \"1669\", \"color\": \"orange\", \"relative frequency\": 18.79, \"decade\": 1660}, {\"Year\": \"1670\", \"color\": \"orange\", \"relative frequency\": 36.86, \"decade\": 1670}, {\"Year\": \"1671\", \"color\": \"orange\", \"relative frequency\": 25.63, \"decade\": 1670}, {\"Year\": \"1672\", \"color\": \"orange\", \"relative frequency\": 9.52, \"decade\": 1670}, {\"Year\": \"1673\", \"color\": \"orange\", \"relative frequency\": 33.87, \"decade\": 1670}, {\"Year\": \"1674\", \"color\": \"orange\", \"relative frequency\": 9.28, \"decade\": 1670}, {\"Year\": \"1675\", \"color\": \"orange\", \"relative frequency\": 17.99, \"decade\": 1670}, {\"Year\": \"1676\", \"color\": \"orange\", \"relative frequency\": 12.98, \"decade\": 1670}, {\"Year\": \"1677\", \"color\": \"orange\", \"relative frequency\": 19.38, \"decade\": 1670}, {\"Year\": \"1678\", \"color\": \"orange\", \"relative frequency\": 65.2, \"decade\": 1670}, {\"Year\": \"1679\", \"color\": \"orange\", \"relative frequency\": 15.5, \"decade\": 1670}, {\"Year\": \"1680\", \"color\": \"orange\", \"relative frequency\": 7.53, \"decade\": 1680}, {\"Year\": \"1681\", \"color\": \"orange\", \"relative frequency\": 13.75, \"decade\": 1680}, {\"Year\": \"1682\", \"color\": \"orange\", \"relative frequency\": 36.4, \"decade\": 1680}, {\"Year\": \"1683\", \"color\": \"orange\", \"relative frequency\": 21.17, \"decade\": 1680}, {\"Year\": \"1684\", \"color\": \"orange\", \"relative frequency\": 18.77, \"decade\": 1680}, {\"Year\": \"1685\", \"color\": \"orange\", \"relative frequency\": 20.9, \"decade\": 1680}, {\"Year\": \"1686\", \"color\": \"orange\", \"relative frequency\": 31.19, \"decade\": 1680}, {\"Year\": \"1687\", \"color\": \"orange\", \"relative frequency\": 17.99, \"decade\": 1680}, {\"Year\": \"1688\", \"color\": \"orange\", \"relative frequency\": 77.89, \"decade\": 1680}, {\"Year\": \"1689\", \"color\": \"orange\", \"relative frequency\": 5.05, \"decade\": 1680}, {\"Year\": \"1690\", \"color\": \"orange\", \"relative frequency\": 14.55, \"decade\": 1690}, {\"Year\": \"1691\", \"color\": \"orange\", \"relative frequency\": 4.1, \"decade\": 1690}, {\"Year\": \"1692\", \"color\": \"orange\", \"relative frequency\": 7.45, \"decade\": 1690}, {\"Year\": \"1693\", \"color\": \"orange\", \"relative frequency\": 20.6, \"decade\": 1690}, {\"Year\": \"1694\", \"color\": \"orange\", \"relative frequency\": 39.82, \"decade\": 1690}, {\"Year\": \"1695\", \"color\": \"orange\", \"relative frequency\": 12.79, \"decade\": 1690}, {\"Year\": \"1696\", \"color\": \"orange\", \"relative frequency\": 15.35, \"decade\": 1690}, {\"Year\": \"1697\", \"color\": \"orange\", \"relative frequency\": 20.72, \"decade\": 1690}, {\"Year\": \"1698\", \"color\": \"orange\", \"relative frequency\": 13.52, \"decade\": 1690}, {\"Year\": \"1699\", \"color\": \"orange\", \"relative frequency\": 13.95, \"decade\": 1690}, {\"Year\": \"1600\", \"color\": \"grey\", \"relative frequency\": 1.05, \"decade\": 1600}, {\"Year\": \"1601\", \"color\": \"grey\", \"relative frequency\": 0.0, \"decade\": 1600}, {\"Year\": \"1602\", \"color\": \"grey\", \"relative frequency\": 0.34, \"decade\": 1600}, {\"Year\": \"1603\", \"color\": \"grey\", \"relative frequency\": 1.66, \"decade\": 1600}, {\"Year\": \"1604\", \"color\": \"grey\", \"relative frequency\": 2.69, \"decade\": 1600}, {\"Year\": \"1605\", \"color\": \"grey\", \"relative frequency\": 0.95, \"decade\": 1600}, {\"Year\": \"1606\", \"color\": \"grey\", \"relative frequency\": 0.71, \"decade\": 1600}, {\"Year\": \"1607\", \"color\": \"grey\", \"relative frequency\": 0.4, \"decade\": 1600}, {\"Year\": \"1608\", \"color\": \"grey\", \"relative frequency\": 0.36, \"decade\": 1600}, {\"Year\": \"1609\", \"color\": \"grey\", \"relative frequency\": 0.89, \"decade\": 1600}, {\"Year\": \"1610\", \"color\": \"grey\", \"relative frequency\": 0.59, \"decade\": 1610}, {\"Year\": \"1611\", \"color\": \"grey\", \"relative frequency\": 0.55, \"decade\": 1610}, {\"Year\": \"1612\", \"color\": \"grey\", \"relative frequency\": 0.47, \"decade\": 1610}, {\"Year\": \"1613\", \"color\": \"grey\", \"relative frequency\": 1.0, \"decade\": 1610}, {\"Year\": \"1614\", \"color\": \"grey\", \"relative frequency\": 0.3, \"decade\": 1610}, {\"Year\": \"1615\", \"color\": \"grey\", \"relative frequency\": 0.54, \"decade\": 1610}, {\"Year\": \"1616\", \"color\": \"grey\", \"relative frequency\": 1.03, \"decade\": 1610}, {\"Year\": \"1617\", \"color\": \"grey\", \"relative frequency\": 0.67, \"decade\": 1610}, {\"Year\": \"1618\", \"color\": \"grey\", \"relative frequency\": 1.5, \"decade\": 1610}, {\"Year\": \"1619\", \"color\": \"grey\", \"relative frequency\": 0.19, \"decade\": 1610}, {\"Year\": \"1620\", \"color\": \"grey\", \"relative frequency\": 0.33, \"decade\": 1620}, {\"Year\": \"1621\", \"color\": \"grey\", \"relative frequency\": 0.0, \"decade\": 1620}, {\"Year\": \"1622\", \"color\": \"grey\", \"relative frequency\": 0.39, \"decade\": 1620}, {\"Year\": \"1623\", \"color\": \"grey\", \"relative frequency\": 1.06, \"decade\": 1620}, {\"Year\": \"1624\", \"color\": \"grey\", \"relative frequency\": 0.0, \"decade\": 1620}, {\"Year\": \"1625\", \"color\": \"grey\", \"relative frequency\": 3.35, \"decade\": 1620}, {\"Year\": \"1626\", \"color\": \"grey\", \"relative frequency\": 0.92, \"decade\": 1620}, {\"Year\": \"1627\", \"color\": \"grey\", \"relative frequency\": 0.2, \"decade\": 1620}, {\"Year\": \"1628\", \"color\": \"grey\", \"relative frequency\": 0.85, \"decade\": 1620}, {\"Year\": \"1629\", \"color\": \"grey\", \"relative frequency\": 0.14, \"decade\": 1620}, {\"Year\": \"1630\", \"color\": \"grey\", \"relative frequency\": 1.31, \"decade\": 1630}, {\"Year\": \"1631\", \"color\": \"grey\", \"relative frequency\": 0.57, \"decade\": 1630}, {\"Year\": \"1632\", \"color\": \"grey\", \"relative frequency\": 0.49, \"decade\": 1630}, {\"Year\": \"1633\", \"color\": \"grey\", \"relative frequency\": 0.22, \"decade\": 1630}, {\"Year\": \"1634\", \"color\": \"grey\", \"relative frequency\": 2.05, \"decade\": 1630}, {\"Year\": \"1635\", \"color\": \"grey\", \"relative frequency\": 0.14, \"decade\": 1630}, {\"Year\": \"1636\", \"color\": \"grey\", \"relative frequency\": 0.0, \"decade\": 1630}, {\"Year\": \"1637\", \"color\": \"grey\", \"relative frequency\": 0.94, \"decade\": 1630}, {\"Year\": \"1638\", \"color\": \"grey\", \"relative frequency\": 1.35, \"decade\": 1630}, {\"Year\": \"1639\", \"color\": \"grey\", \"relative frequency\": 0.77, \"decade\": 1630}, {\"Year\": \"1640\", \"color\": \"grey\", \"relative frequency\": 1.22, \"decade\": 1640}, {\"Year\": \"1641\", \"color\": \"grey\", \"relative frequency\": 0.1, \"decade\": 1640}, {\"Year\": \"1642\", \"color\": \"grey\", \"relative frequency\": 0.0, \"decade\": 1640}, {\"Year\": \"1643\", \"color\": \"grey\", \"relative frequency\": 0.14, \"decade\": 1640}, {\"Year\": \"1644\", \"color\": \"grey\", \"relative frequency\": 0.14, \"decade\": 1640}, {\"Year\": \"1645\", \"color\": \"grey\", \"relative frequency\": 0.81, \"decade\": 1640}, {\"Year\": \"1646\", \"color\": \"grey\", \"relative frequency\": 0.0, \"decade\": 1640}, {\"Year\": \"1647\", \"color\": \"grey\", \"relative frequency\": 0.43, \"decade\": 1640}, {\"Year\": \"1648\", \"color\": \"grey\", \"relative frequency\": 0.0, \"decade\": 1640}, {\"Year\": \"1649\", \"color\": \"grey\", \"relative frequency\": 0.24, \"decade\": 1640}, {\"Year\": \"1650\", \"color\": \"grey\", \"relative frequency\": 0.64, \"decade\": 1650}, {\"Year\": \"1651\", \"color\": \"grey\", \"relative frequency\": 1.04, \"decade\": 1650}, {\"Year\": \"1652\", \"color\": \"grey\", \"relative frequency\": 0.79, \"decade\": 1650}, {\"Year\": \"1653\", \"color\": \"grey\", \"relative frequency\": 0.83, \"decade\": 1650}, {\"Year\": \"1654\", \"color\": \"grey\", \"relative frequency\": 1.66, \"decade\": 1650}, {\"Year\": \"1655\", \"color\": \"grey\", \"relative frequency\": 0.89, \"decade\": 1650}, {\"Year\": \"1656\", \"color\": \"grey\", \"relative frequency\": 0.81, \"decade\": 1650}, {\"Year\": \"1657\", \"color\": \"grey\", \"relative frequency\": 1.62, \"decade\": 1650}, {\"Year\": \"1658\", \"color\": \"grey\", \"relative frequency\": 1.5, \"decade\": 1650}, {\"Year\": \"1659\", \"color\": \"grey\", \"relative frequency\": 0.31, \"decade\": 1650}, {\"Year\": \"1660\", \"color\": \"grey\", \"relative frequency\": 0.89, \"decade\": 1660}, {\"Year\": \"1661\", \"color\": \"grey\", \"relative frequency\": 0.71, \"decade\": 1660}, {\"Year\": \"1662\", \"color\": \"grey\", \"relative frequency\": 1.38, \"decade\": 1660}, {\"Year\": \"1663\", \"color\": \"grey\", \"relative frequency\": 1.13, \"decade\": 1660}, {\"Year\": \"1664\", \"color\": \"grey\", \"relative frequency\": 4.56, \"decade\": 1660}, {\"Year\": \"1665\", \"color\": \"grey\", \"relative frequency\": 2.05, \"decade\": 1660}, {\"Year\": \"1666\", \"color\": \"grey\", \"relative frequency\": 4.44, \"decade\": 1660}, {\"Year\": \"1667\", \"color\": \"grey\", \"relative frequency\": 1.36, \"decade\": 1660}, {\"Year\": \"1668\", \"color\": \"grey\", \"relative frequency\": 2.28, \"decade\": 1660}, {\"Year\": \"1669\", \"color\": \"grey\", \"relative frequency\": 3.13, \"decade\": 1660}, {\"Year\": \"1670\", \"color\": \"grey\", \"relative frequency\": 1.52, \"decade\": 1670}, {\"Year\": \"1671\", \"color\": \"grey\", \"relative frequency\": 4.07, \"decade\": 1670}, {\"Year\": \"1672\", \"color\": \"grey\", \"relative frequency\": 1.12, \"decade\": 1670}, {\"Year\": \"1673\", \"color\": \"grey\", \"relative frequency\": 2.48, \"decade\": 1670}, {\"Year\": \"1674\", \"color\": \"grey\", \"relative frequency\": 2.65, \"decade\": 1670}, {\"Year\": \"1675\", \"color\": \"grey\", \"relative frequency\": 1.69, \"decade\": 1670}, {\"Year\": \"1676\", \"color\": \"grey\", \"relative frequency\": 3.92, \"decade\": 1670}, {\"Year\": \"1677\", \"color\": \"grey\", \"relative frequency\": 2.52, \"decade\": 1670}, {\"Year\": \"1678\", \"color\": \"grey\", \"relative frequency\": 11.59, \"decade\": 1670}, {\"Year\": \"1679\", \"color\": \"grey\", \"relative frequency\": 2.05, \"decade\": 1670}, {\"Year\": \"1680\", \"color\": \"grey\", \"relative frequency\": 1.83, \"decade\": 1680}, {\"Year\": \"1681\", \"color\": \"grey\", \"relative frequency\": 3.17, \"decade\": 1680}, {\"Year\": \"1682\", \"color\": \"grey\", \"relative frequency\": 1.75, \"decade\": 1680}, {\"Year\": \"1683\", \"color\": \"grey\", \"relative frequency\": 6.17, \"decade\": 1680}, {\"Year\": \"1684\", \"color\": \"grey\", \"relative frequency\": 1.96, \"decade\": 1680}, {\"Year\": \"1685\", \"color\": \"grey\", \"relative frequency\": 3.12, \"decade\": 1680}, {\"Year\": \"1686\", \"color\": \"grey\", \"relative frequency\": 2.54, \"decade\": 1680}, {\"Year\": \"1687\", \"color\": \"grey\", \"relative frequency\": 1.01, \"decade\": 1680}, {\"Year\": \"1688\", \"color\": \"grey\", \"relative frequency\": 8.85, \"decade\": 1680}, {\"Year\": \"1689\", \"color\": \"grey\", \"relative frequency\": 1.89, \"decade\": 1680}, {\"Year\": \"1690\", \"color\": \"grey\", \"relative frequency\": 2.3, \"decade\": 1690}, {\"Year\": \"1691\", \"color\": \"grey\", \"relative frequency\": 1.18, \"decade\": 1690}, {\"Year\": \"1692\", \"color\": \"grey\", \"relative frequency\": 1.93, \"decade\": 1690}, {\"Year\": \"1693\", \"color\": \"grey\", \"relative frequency\": 7.07, \"decade\": 1690}, {\"Year\": \"1694\", \"color\": \"grey\", \"relative frequency\": 4.26, \"decade\": 1690}, {\"Year\": \"1695\", \"color\": \"grey\", \"relative frequency\": 2.73, \"decade\": 1690}, {\"Year\": \"1696\", \"color\": \"grey\", \"relative frequency\": 3.2, \"decade\": 1690}, {\"Year\": \"1697\", \"color\": \"grey\", \"relative frequency\": 1.95, \"decade\": 1690}, {\"Year\": \"1698\", \"color\": \"grey\", \"relative frequency\": 2.47, \"decade\": 1690}, {\"Year\": \"1699\", \"color\": \"grey\", \"relative frequency\": 2.55, \"decade\": 1690}]}}, {\"mode\": \"vega-lite\"});\n",
       "</script>"
      ],
      "text/plain": [
       "alt.Chart(...)"
      ]
     },
     "execution_count": 8,
     "metadata": {},
     "output_type": "execute_result"
    }
   ],
   "source": [
    "# chart the data\n",
    "alt.Chart(by_color).mark_line(point=alt.OverlayMarkDef(tooltip=True, filled=False, fill=\"black\")).encode(\n",
    "    # brush=alt.selection_interval(encodings=[\"x\"])\n",
    "    x=\"Year:T\",\n",
    "    y=\"relative frequency:Q\",\n",
    "    color=alt.Color(\"color\").scale(None)\n",
    ").interactive().properties(width=1000).add_params()\n"
   ]
  },
  {
   "cell_type": "code",
   "execution_count": 9,
   "metadata": {},
   "outputs": [
    {
     "data": {
      "text/html": [
       "\n",
       "<style>\n",
       "  #altair-viz-6028d6eb4c5f49db92651346fdef4f54.vega-embed {\n",
       "    width: 100%;\n",
       "    display: flex;\n",
       "  }\n",
       "\n",
       "  #altair-viz-6028d6eb4c5f49db92651346fdef4f54.vega-embed details,\n",
       "  #altair-viz-6028d6eb4c5f49db92651346fdef4f54.vega-embed details summary {\n",
       "    position: relative;\n",
       "  }\n",
       "</style>\n",
       "<div id=\"altair-viz-6028d6eb4c5f49db92651346fdef4f54\"></div>\n",
       "<script type=\"text/javascript\">\n",
       "  var VEGA_DEBUG = (typeof VEGA_DEBUG == \"undefined\") ? {} : VEGA_DEBUG;\n",
       "  (function(spec, embedOpt){\n",
       "    let outputDiv = document.currentScript.previousElementSibling;\n",
       "    if (outputDiv.id !== \"altair-viz-6028d6eb4c5f49db92651346fdef4f54\") {\n",
       "      outputDiv = document.getElementById(\"altair-viz-6028d6eb4c5f49db92651346fdef4f54\");\n",
       "    }\n",
       "\n",
       "    const paths = {\n",
       "      \"vega\": \"https://cdn.jsdelivr.net/npm/vega@5?noext\",\n",
       "      \"vega-lib\": \"https://cdn.jsdelivr.net/npm/vega-lib?noext\",\n",
       "      \"vega-lite\": \"https://cdn.jsdelivr.net/npm/vega-lite@5.20.1?noext\",\n",
       "      \"vega-embed\": \"https://cdn.jsdelivr.net/npm/vega-embed@6?noext\",\n",
       "    };\n",
       "\n",
       "    function maybeLoadScript(lib, version) {\n",
       "      var key = `${lib.replace(\"-\", \"\")}_version`;\n",
       "      return (VEGA_DEBUG[key] == version) ?\n",
       "        Promise.resolve(paths[lib]) :\n",
       "        new Promise(function(resolve, reject) {\n",
       "          var s = document.createElement('script');\n",
       "          document.getElementsByTagName(\"head\")[0].appendChild(s);\n",
       "          s.async = true;\n",
       "          s.onload = () => {\n",
       "            VEGA_DEBUG[key] = version;\n",
       "            return resolve(paths[lib]);\n",
       "          };\n",
       "          s.onerror = () => reject(`Error loading script: ${paths[lib]}`);\n",
       "          s.src = paths[lib];\n",
       "        });\n",
       "    }\n",
       "\n",
       "    function showError(err) {\n",
       "      outputDiv.innerHTML = `<div class=\"error\" style=\"color:red;\">${err}</div>`;\n",
       "      throw err;\n",
       "    }\n",
       "\n",
       "    function displayChart(vegaEmbed) {\n",
       "      vegaEmbed(outputDiv, spec, embedOpt)\n",
       "        .catch(err => showError(`Javascript Error: ${err.message}<br>This usually means there's a typo in your chart specification. See the javascript console for the full traceback.`));\n",
       "    }\n",
       "\n",
       "    if(typeof define === \"function\" && define.amd) {\n",
       "      requirejs.config({paths});\n",
       "      let deps = [\"vega-embed\"];\n",
       "      require(deps, displayChart, err => showError(`Error loading script: ${err.message}`));\n",
       "    } else {\n",
       "      maybeLoadScript(\"vega\", \"5\")\n",
       "        .then(() => maybeLoadScript(\"vega-lite\", \"5.20.1\"))\n",
       "        .then(() => maybeLoadScript(\"vega-embed\", \"6\"))\n",
       "        .catch(showError)\n",
       "        .then(() => displayChart(vegaEmbed));\n",
       "    }\n",
       "  })({\"config\": {\"view\": {\"continuousWidth\": 300, \"continuousHeight\": 300}}, \"data\": {\"name\": \"data-bf8c317b68862b80e1409aaa15309378\"}, \"mark\": {\"type\": \"boxplot\", \"extent\": \"min-max\"}, \"encoding\": {\"color\": {\"field\": \"color\", \"scale\": null, \"type\": \"nominal\"}, \"x\": {\"field\": \"decade\", \"type\": \"temporal\"}, \"y\": {\"field\": \"relative frequency\", \"type\": \"quantitative\"}}, \"width\": 1000, \"$schema\": \"https://vega.github.io/schema/vega-lite/v5.20.1.json\", \"datasets\": {\"data-bf8c317b68862b80e1409aaa15309378\": [{\"Year\": \"1600\", \"color\": \"red\", \"relative frequency\": 38.13, \"decade\": 1600}, {\"Year\": \"1601\", \"color\": \"red\", \"relative frequency\": 64.43, \"decade\": 1600}, {\"Year\": \"1602\", \"color\": \"red\", \"relative frequency\": 45.3, \"decade\": 1600}, {\"Year\": \"1603\", \"color\": \"red\", \"relative frequency\": 33.03, \"decade\": 1600}, {\"Year\": \"1604\", \"color\": \"red\", \"relative frequency\": 24.6, \"decade\": 1600}, {\"Year\": \"1605\", \"color\": \"red\", \"relative frequency\": 244.62, \"decade\": 1600}, {\"Year\": \"1606\", \"color\": \"red\", \"relative frequency\": 43.02, \"decade\": 1600}, {\"Year\": \"1607\", \"color\": \"red\", \"relative frequency\": 52.76, \"decade\": 1600}, {\"Year\": \"1608\", \"color\": \"red\", \"relative frequency\": 35.63, \"decade\": 1600}, {\"Year\": \"1609\", \"color\": \"red\", \"relative frequency\": 36.87, \"decade\": 1600}, {\"Year\": \"1610\", \"color\": \"red\", \"relative frequency\": 28.25, \"decade\": 1610}, {\"Year\": \"1611\", \"color\": \"red\", \"relative frequency\": 35.88, \"decade\": 1610}, {\"Year\": \"1612\", \"color\": \"red\", \"relative frequency\": 41.45, \"decade\": 1610}, {\"Year\": \"1613\", \"color\": \"red\", \"relative frequency\": 55.64, \"decade\": 1610}, {\"Year\": \"1614\", \"color\": \"red\", \"relative frequency\": 46.81, \"decade\": 1610}, {\"Year\": \"1615\", \"color\": \"red\", \"relative frequency\": 49.99, \"decade\": 1610}, {\"Year\": \"1616\", \"color\": \"red\", \"relative frequency\": 84.84, \"decade\": 1610}, {\"Year\": \"1617\", \"color\": \"red\", \"relative frequency\": 37.47, \"decade\": 1610}, {\"Year\": \"1618\", \"color\": \"red\", \"relative frequency\": 36.2, \"decade\": 1610}, {\"Year\": \"1619\", \"color\": \"red\", \"relative frequency\": 23.11, \"decade\": 1610}, {\"Year\": \"1620\", \"color\": \"red\", \"relative frequency\": 32.83, \"decade\": 1620}, {\"Year\": \"1621\", \"color\": \"red\", \"relative frequency\": 38.87, \"decade\": 1620}, {\"Year\": \"1622\", \"color\": \"red\", \"relative frequency\": 35.1, \"decade\": 1620}, {\"Year\": \"1623\", \"color\": \"red\", \"relative frequency\": 34.28, \"decade\": 1620}, {\"Year\": \"1624\", \"color\": \"red\", \"relative frequency\": 31.38, \"decade\": 1620}, {\"Year\": \"1625\", \"color\": \"red\", \"relative frequency\": 70.06, \"decade\": 1620}, {\"Year\": \"1626\", \"color\": \"red\", \"relative frequency\": 29.24, \"decade\": 1620}, {\"Year\": \"1627\", \"color\": \"red\", \"relative frequency\": 56.14, \"decade\": 1620}, {\"Year\": \"1628\", \"color\": \"red\", \"relative frequency\": 35.09, \"decade\": 1620}, {\"Year\": \"1629\", \"color\": \"red\", \"relative frequency\": 103.52, \"decade\": 1620}, {\"Year\": \"1630\", \"color\": \"red\", \"relative frequency\": 38.18, \"decade\": 1630}, {\"Year\": \"1631\", \"color\": \"red\", \"relative frequency\": 29.63, \"decade\": 1630}, {\"Year\": \"1632\", \"color\": \"red\", \"relative frequency\": 39.8, \"decade\": 1630}, {\"Year\": \"1633\", \"color\": \"red\", \"relative frequency\": 132.72, \"decade\": 1630}, {\"Year\": \"1634\", \"color\": \"red\", \"relative frequency\": 140.74, \"decade\": 1630}, {\"Year\": \"1635\", \"color\": \"red\", \"relative frequency\": 54.07, \"decade\": 1630}, {\"Year\": \"1636\", \"color\": \"red\", \"relative frequency\": 66.53, \"decade\": 1630}, {\"Year\": \"1637\", \"color\": \"red\", \"relative frequency\": 44.87, \"decade\": 1630}, {\"Year\": \"1638\", \"color\": \"red\", \"relative frequency\": 41.23, \"decade\": 1630}, {\"Year\": \"1639\", \"color\": \"red\", \"relative frequency\": 57.05, \"decade\": 1630}, {\"Year\": \"1640\", \"color\": \"red\", \"relative frequency\": 118.76, \"decade\": 1640}, {\"Year\": \"1641\", \"color\": \"red\", \"relative frequency\": 40.94, \"decade\": 1640}, {\"Year\": \"1642\", \"color\": \"red\", \"relative frequency\": 18.63, \"decade\": 1640}, {\"Year\": \"1643\", \"color\": \"red\", \"relative frequency\": 36.92, \"decade\": 1640}, {\"Year\": \"1644\", \"color\": \"red\", \"relative frequency\": 41.98, \"decade\": 1640}, {\"Year\": \"1645\", \"color\": \"red\", \"relative frequency\": 19.48, \"decade\": 1640}, {\"Year\": \"1646\", \"color\": \"red\", \"relative frequency\": 24.17, \"decade\": 1640}, {\"Year\": \"1647\", \"color\": \"red\", \"relative frequency\": 25.43, \"decade\": 1640}, {\"Year\": \"1648\", \"color\": \"red\", \"relative frequency\": 22.02, \"decade\": 1640}, {\"Year\": \"1649\", \"color\": \"red\", \"relative frequency\": 49.55, \"decade\": 1640}, {\"Year\": \"1650\", \"color\": \"red\", \"relative frequency\": 39.22, \"decade\": 1650}, {\"Year\": \"1651\", \"color\": \"red\", \"relative frequency\": 69.93, \"decade\": 1650}, {\"Year\": \"1652\", \"color\": \"red\", \"relative frequency\": 55.72, \"decade\": 1650}, {\"Year\": \"1653\", \"color\": \"red\", \"relative frequency\": 63.36, \"decade\": 1650}, {\"Year\": \"1654\", \"color\": \"red\", \"relative frequency\": 33.62, \"decade\": 1650}, {\"Year\": \"1655\", \"color\": \"red\", \"relative frequency\": 69.39, \"decade\": 1650}, {\"Year\": \"1656\", \"color\": \"red\", \"relative frequency\": 40.17, \"decade\": 1650}, {\"Year\": \"1657\", \"color\": \"red\", \"relative frequency\": 66.52, \"decade\": 1650}, {\"Year\": \"1658\", \"color\": \"red\", \"relative frequency\": 58.07, \"decade\": 1650}, {\"Year\": \"1659\", \"color\": \"red\", \"relative frequency\": 50.92, \"decade\": 1650}, {\"Year\": \"1660\", \"color\": \"red\", \"relative frequency\": 38.06, \"decade\": 1660}, {\"Year\": \"1661\", \"color\": \"red\", \"relative frequency\": 39.71, \"decade\": 1660}, {\"Year\": \"1662\", \"color\": \"red\", \"relative frequency\": 51.4, \"decade\": 1660}, {\"Year\": \"1663\", \"color\": \"red\", \"relative frequency\": 47.66, \"decade\": 1660}, {\"Year\": \"1664\", \"color\": \"red\", \"relative frequency\": 120.8, \"decade\": 1660}, {\"Year\": \"1665\", \"color\": \"red\", \"relative frequency\": 96.78, \"decade\": 1660}, {\"Year\": \"1666\", \"color\": \"red\", \"relative frequency\": 54.78, \"decade\": 1660}, {\"Year\": \"1667\", \"color\": \"red\", \"relative frequency\": 18.5, \"decade\": 1660}, {\"Year\": \"1668\", \"color\": \"red\", \"relative frequency\": 45.11, \"decade\": 1660}, {\"Year\": \"1669\", \"color\": \"red\", \"relative frequency\": 53.37, \"decade\": 1660}, {\"Year\": \"1670\", \"color\": \"red\", \"relative frequency\": 90.45, \"decade\": 1670}, {\"Year\": \"1671\", \"color\": \"red\", \"relative frequency\": 76.13, \"decade\": 1670}, {\"Year\": \"1672\", \"color\": \"red\", \"relative frequency\": 26.31, \"decade\": 1670}, {\"Year\": \"1673\", \"color\": \"red\", \"relative frequency\": 54.13, \"decade\": 1670}, {\"Year\": \"1674\", \"color\": \"red\", \"relative frequency\": 25.85, \"decade\": 1670}, {\"Year\": \"1675\", \"color\": \"red\", \"relative frequency\": 42.2, \"decade\": 1670}, {\"Year\": \"1676\", \"color\": \"red\", \"relative frequency\": 32.28, \"decade\": 1670}, {\"Year\": \"1677\", \"color\": \"red\", \"relative frequency\": 46.07, \"decade\": 1670}, {\"Year\": \"1678\", \"color\": \"red\", \"relative frequency\": 81.71, \"decade\": 1670}, {\"Year\": \"1679\", \"color\": \"red\", \"relative frequency\": 45.0, \"decade\": 1670}, {\"Year\": \"1680\", \"color\": \"red\", \"relative frequency\": 32.15, \"decade\": 1680}, {\"Year\": \"1681\", \"color\": \"red\", \"relative frequency\": 34.25, \"decade\": 1680}, {\"Year\": \"1682\", \"color\": \"red\", \"relative frequency\": 70.77, \"decade\": 1680}, {\"Year\": \"1683\", \"color\": \"red\", \"relative frequency\": 58.63, \"decade\": 1680}, {\"Year\": \"1684\", \"color\": \"red\", \"relative frequency\": 52.38, \"decade\": 1680}, {\"Year\": \"1685\", \"color\": \"red\", \"relative frequency\": 41.49, \"decade\": 1680}, {\"Year\": \"1686\", \"color\": \"red\", \"relative frequency\": 85.73, \"decade\": 1680}, {\"Year\": \"1687\", \"color\": \"red\", \"relative frequency\": 60.04, \"decade\": 1680}, {\"Year\": \"1688\", \"color\": \"red\", \"relative frequency\": 86.07, \"decade\": 1680}, {\"Year\": \"1689\", \"color\": \"red\", \"relative frequency\": 18.47, \"decade\": 1680}, {\"Year\": \"1690\", \"color\": \"red\", \"relative frequency\": 29.42, \"decade\": 1690}, {\"Year\": \"1691\", \"color\": \"red\", \"relative frequency\": 26.79, \"decade\": 1690}, {\"Year\": \"1692\", \"color\": \"red\", \"relative frequency\": 39.25, \"decade\": 1690}, {\"Year\": \"1693\", \"color\": \"red\", \"relative frequency\": 45.56, \"decade\": 1690}, {\"Year\": \"1694\", \"color\": \"red\", \"relative frequency\": 88.98, \"decade\": 1690}, {\"Year\": \"1695\", \"color\": \"red\", \"relative frequency\": 44.78, \"decade\": 1690}, {\"Year\": \"1696\", \"color\": \"red\", \"relative frequency\": 37.3, \"decade\": 1690}, {\"Year\": \"1697\", \"color\": \"red\", \"relative frequency\": 48.87, \"decade\": 1690}, {\"Year\": \"1698\", \"color\": \"red\", \"relative frequency\": 57.86, \"decade\": 1690}, {\"Year\": \"1699\", \"color\": \"red\", \"relative frequency\": 43.06, \"decade\": 1690}, {\"Year\": \"1600\", \"color\": \"blue\", \"relative frequency\": 0.15, \"decade\": 1600}, {\"Year\": \"1601\", \"color\": \"blue\", \"relative frequency\": 1.01, \"decade\": 1600}, {\"Year\": \"1602\", \"color\": \"blue\", \"relative frequency\": 1.2, \"decade\": 1600}, {\"Year\": \"1603\", \"color\": \"blue\", \"relative frequency\": 0.45, \"decade\": 1600}, {\"Year\": \"1604\", \"color\": \"blue\", \"relative frequency\": 0.96, \"decade\": 1600}, {\"Year\": \"1605\", \"color\": \"blue\", \"relative frequency\": 2.37, \"decade\": 1600}, {\"Year\": \"1606\", \"color\": \"blue\", \"relative frequency\": 0.85, \"decade\": 1600}, {\"Year\": \"1607\", \"color\": \"blue\", \"relative frequency\": 1.87, \"decade\": 1600}, {\"Year\": \"1608\", \"color\": \"blue\", \"relative frequency\": 0.54, \"decade\": 1600}, {\"Year\": \"1609\", \"color\": \"blue\", \"relative frequency\": 1.43, \"decade\": 1600}, {\"Year\": \"1610\", \"color\": \"blue\", \"relative frequency\": 0.45, \"decade\": 1610}, {\"Year\": \"1611\", \"color\": \"blue\", \"relative frequency\": 1.29, \"decade\": 1610}, {\"Year\": \"1612\", \"color\": \"blue\", \"relative frequency\": 0.7, \"decade\": 1610}, {\"Year\": \"1613\", \"color\": \"blue\", \"relative frequency\": 1.17, \"decade\": 1610}, {\"Year\": \"1614\", \"color\": \"blue\", \"relative frequency\": 0.45, \"decade\": 1610}, {\"Year\": \"1615\", \"color\": \"blue\", \"relative frequency\": 2.45, \"decade\": 1610}, {\"Year\": \"1616\", \"color\": \"blue\", \"relative frequency\": 3.28, \"decade\": 1610}, {\"Year\": \"1617\", \"color\": \"blue\", \"relative frequency\": 1.57, \"decade\": 1610}, {\"Year\": \"1618\", \"color\": \"blue\", \"relative frequency\": 1.13, \"decade\": 1610}, {\"Year\": \"1619\", \"color\": \"blue\", \"relative frequency\": 0.38, \"decade\": 1610}, {\"Year\": \"1620\", \"color\": \"blue\", \"relative frequency\": 0.49, \"decade\": 1620}, {\"Year\": \"1621\", \"color\": \"blue\", \"relative frequency\": 0.84, \"decade\": 1620}, {\"Year\": \"1622\", \"color\": \"blue\", \"relative frequency\": 1.75, \"decade\": 1620}, {\"Year\": \"1623\", \"color\": \"blue\", \"relative frequency\": 2.57, \"decade\": 1620}, {\"Year\": \"1624\", \"color\": \"blue\", \"relative frequency\": 8.09, \"decade\": 1620}, {\"Year\": \"1625\", \"color\": \"blue\", \"relative frequency\": 6.58, \"decade\": 1620}, {\"Year\": \"1626\", \"color\": \"blue\", \"relative frequency\": 0.62, \"decade\": 1620}, {\"Year\": \"1627\", \"color\": \"blue\", \"relative frequency\": 1.78, \"decade\": 1620}, {\"Year\": \"1628\", \"color\": \"blue\", \"relative frequency\": 2.83, \"decade\": 1620}, {\"Year\": \"1629\", \"color\": \"blue\", \"relative frequency\": 1.77, \"decade\": 1620}, {\"Year\": \"1630\", \"color\": \"blue\", \"relative frequency\": 6.39, \"decade\": 1630}, {\"Year\": \"1631\", \"color\": \"blue\", \"relative frequency\": 1.42, \"decade\": 1630}, {\"Year\": \"1632\", \"color\": \"blue\", \"relative frequency\": 1.11, \"decade\": 1630}, {\"Year\": \"1633\", \"color\": \"blue\", \"relative frequency\": 2.9, \"decade\": 1630}, {\"Year\": \"1634\", \"color\": \"blue\", \"relative frequency\": 2.05, \"decade\": 1630}, {\"Year\": \"1635\", \"color\": \"blue\", \"relative frequency\": 2.44, \"decade\": 1630}, {\"Year\": \"1636\", \"color\": \"blue\", \"relative frequency\": 1.26, \"decade\": 1630}, {\"Year\": \"1637\", \"color\": \"blue\", \"relative frequency\": 2.26, \"decade\": 1630}, {\"Year\": \"1638\", \"color\": \"blue\", \"relative frequency\": 0.84, \"decade\": 1630}, {\"Year\": \"1639\", \"color\": \"blue\", \"relative frequency\": 2.89, \"decade\": 1630}, {\"Year\": \"1640\", \"color\": \"blue\", \"relative frequency\": 7.24, \"decade\": 1640}, {\"Year\": \"1641\", \"color\": \"blue\", \"relative frequency\": 1.69, \"decade\": 1640}, {\"Year\": \"1642\", \"color\": \"blue\", \"relative frequency\": 1.16, \"decade\": 1640}, {\"Year\": \"1643\", \"color\": \"blue\", \"relative frequency\": 1.82, \"decade\": 1640}, {\"Year\": \"1644\", \"color\": \"blue\", \"relative frequency\": 2.43, \"decade\": 1640}, {\"Year\": \"1645\", \"color\": \"blue\", \"relative frequency\": 0.81, \"decade\": 1640}, {\"Year\": \"1646\", \"color\": \"blue\", \"relative frequency\": 1.59, \"decade\": 1640}, {\"Year\": \"1647\", \"color\": \"blue\", \"relative frequency\": 2.13, \"decade\": 1640}, {\"Year\": \"1648\", \"color\": \"blue\", \"relative frequency\": 1.38, \"decade\": 1640}, {\"Year\": \"1649\", \"color\": \"blue\", \"relative frequency\": 3.17, \"decade\": 1640}, {\"Year\": \"1650\", \"color\": \"blue\", \"relative frequency\": 1.27, \"decade\": 1650}, {\"Year\": \"1651\", \"color\": \"blue\", \"relative frequency\": 2.42, \"decade\": 1650}, {\"Year\": \"1652\", \"color\": \"blue\", \"relative frequency\": 4.6, \"decade\": 1650}, {\"Year\": \"1653\", \"color\": \"blue\", \"relative frequency\": 2.29, \"decade\": 1650}, {\"Year\": \"1654\", \"color\": \"blue\", \"relative frequency\": 1.08, \"decade\": 1650}, {\"Year\": \"1655\", \"color\": \"blue\", \"relative frequency\": 1.89, \"decade\": 1650}, {\"Year\": \"1656\", \"color\": \"blue\", \"relative frequency\": 1.19, \"decade\": 1650}, {\"Year\": \"1657\", \"color\": \"blue\", \"relative frequency\": 2.04, \"decade\": 1650}, {\"Year\": \"1658\", \"color\": \"blue\", \"relative frequency\": 1.96, \"decade\": 1650}, {\"Year\": \"1659\", \"color\": \"blue\", \"relative frequency\": 1.23, \"decade\": 1650}, {\"Year\": \"1660\", \"color\": \"blue\", \"relative frequency\": 1.08, \"decade\": 1660}, {\"Year\": \"1661\", \"color\": \"blue\", \"relative frequency\": 0.94, \"decade\": 1660}, {\"Year\": \"1662\", \"color\": \"blue\", \"relative frequency\": 1.61, \"decade\": 1660}, {\"Year\": \"1663\", \"color\": \"blue\", \"relative frequency\": 1.13, \"decade\": 1660}, {\"Year\": \"1664\", \"color\": \"blue\", \"relative frequency\": 0.35, \"decade\": 1660}, {\"Year\": \"1665\", \"color\": \"blue\", \"relative frequency\": 4.0, \"decade\": 1660}, {\"Year\": \"1666\", \"color\": \"blue\", \"relative frequency\": 5.4, \"decade\": 1660}, {\"Year\": \"1667\", \"color\": \"blue\", \"relative frequency\": 0.34, \"decade\": 1660}, {\"Year\": \"1668\", \"color\": \"blue\", \"relative frequency\": 5.89, \"decade\": 1660}, {\"Year\": \"1669\", \"color\": \"blue\", \"relative frequency\": 0.88, \"decade\": 1660}, {\"Year\": \"1670\", \"color\": \"blue\", \"relative frequency\": 3.91, \"decade\": 1670}, {\"Year\": \"1671\", \"color\": \"blue\", \"relative frequency\": 10.4, \"decade\": 1670}, {\"Year\": \"1672\", \"color\": \"blue\", \"relative frequency\": 0.75, \"decade\": 1670}, {\"Year\": \"1673\", \"color\": \"blue\", \"relative frequency\": 4.08, \"decade\": 1670}, {\"Year\": \"1674\", \"color\": \"blue\", \"relative frequency\": 1.04, \"decade\": 1670}, {\"Year\": \"1675\", \"color\": \"blue\", \"relative frequency\": 2.5, \"decade\": 1670}, {\"Year\": \"1676\", \"color\": \"blue\", \"relative frequency\": 1.37, \"decade\": 1670}, {\"Year\": \"1677\", \"color\": \"blue\", \"relative frequency\": 4.26, \"decade\": 1670}, {\"Year\": \"1678\", \"color\": \"blue\", \"relative frequency\": 20.73, \"decade\": 1670}, {\"Year\": \"1679\", \"color\": \"blue\", \"relative frequency\": 2.44, \"decade\": 1670}, {\"Year\": \"1680\", \"color\": \"blue\", \"relative frequency\": 1.61, \"decade\": 1680}, {\"Year\": \"1681\", \"color\": \"blue\", \"relative frequency\": 2.09, \"decade\": 1680}, {\"Year\": \"1682\", \"color\": \"blue\", \"relative frequency\": 3.77, \"decade\": 1680}, {\"Year\": \"1683\", \"color\": \"blue\", \"relative frequency\": 5.31, \"decade\": 1680}, {\"Year\": \"1684\", \"color\": \"blue\", \"relative frequency\": 1.96, \"decade\": 1680}, {\"Year\": \"1685\", \"color\": \"blue\", \"relative frequency\": 3.18, \"decade\": 1680}, {\"Year\": \"1686\", \"color\": \"blue\", \"relative frequency\": 10.04, \"decade\": 1680}, {\"Year\": \"1687\", \"color\": \"blue\", \"relative frequency\": 4.45, \"decade\": 1680}, {\"Year\": \"1688\", \"color\": \"blue\", \"relative frequency\": 10.71, \"decade\": 1680}, {\"Year\": \"1689\", \"color\": \"blue\", \"relative frequency\": 2.97, \"decade\": 1680}, {\"Year\": \"1690\", \"color\": \"blue\", \"relative frequency\": 5.67, \"decade\": 1690}, {\"Year\": \"1691\", \"color\": \"blue\", \"relative frequency\": 4.65, \"decade\": 1690}, {\"Year\": \"1692\", \"color\": \"blue\", \"relative frequency\": 5.23, \"decade\": 1690}, {\"Year\": \"1693\", \"color\": \"blue\", \"relative frequency\": 3.14, \"decade\": 1690}, {\"Year\": \"1694\", \"color\": \"blue\", \"relative frequency\": 6.38, \"decade\": 1690}, {\"Year\": \"1695\", \"color\": \"blue\", \"relative frequency\": 5.8, \"decade\": 1690}, {\"Year\": \"1696\", \"color\": \"blue\", \"relative frequency\": 5.27, \"decade\": 1690}, {\"Year\": \"1697\", \"color\": \"blue\", \"relative frequency\": 10.09, \"decade\": 1690}, {\"Year\": \"1698\", \"color\": \"blue\", \"relative frequency\": 5.2, \"decade\": 1690}, {\"Year\": \"1699\", \"color\": \"blue\", \"relative frequency\": 9.97, \"decade\": 1690}, {\"Year\": \"1600\", \"color\": \"green\", \"relative frequency\": 33.34, \"decade\": 1600}, {\"Year\": \"1601\", \"color\": \"green\", \"relative frequency\": 41.61, \"decade\": 1600}, {\"Year\": \"1602\", \"color\": \"green\", \"relative frequency\": 21.79, \"decade\": 1600}, {\"Year\": \"1603\", \"color\": \"green\", \"relative frequency\": 25.79, \"decade\": 1600}, {\"Year\": \"1604\", \"color\": \"green\", \"relative frequency\": 21.33, \"decade\": 1600}, {\"Year\": \"1605\", \"color\": \"green\", \"relative frequency\": 29.69, \"decade\": 1600}, {\"Year\": \"1606\", \"color\": \"green\", \"relative frequency\": 20.1, \"decade\": 1600}, {\"Year\": \"1607\", \"color\": \"green\", \"relative frequency\": 36.56, \"decade\": 1600}, {\"Year\": \"1608\", \"color\": \"green\", \"relative frequency\": 32.05, \"decade\": 1600}, {\"Year\": \"1609\", \"color\": \"green\", \"relative frequency\": 25.3, \"decade\": 1600}, {\"Year\": \"1610\", \"color\": \"green\", \"relative frequency\": 28.4, \"decade\": 1610}, {\"Year\": \"1611\", \"color\": \"green\", \"relative frequency\": 28.15, \"decade\": 1610}, {\"Year\": \"1612\", \"color\": \"green\", \"relative frequency\": 26.0, \"decade\": 1610}, {\"Year\": \"1613\", \"color\": \"green\", \"relative frequency\": 25.23, \"decade\": 1610}, {\"Year\": \"1614\", \"color\": \"green\", \"relative frequency\": 28.63, \"decade\": 1610}, {\"Year\": \"1615\", \"color\": \"green\", \"relative frequency\": 32.42, \"decade\": 1610}, {\"Year\": \"1616\", \"color\": \"green\", \"relative frequency\": 60.52, \"decade\": 1610}, {\"Year\": \"1617\", \"color\": \"green\", \"relative frequency\": 23.78, \"decade\": 1610}, {\"Year\": \"1618\", \"color\": \"green\", \"relative frequency\": 44.83, \"decade\": 1610}, {\"Year\": \"1619\", \"color\": \"green\", \"relative frequency\": 20.83, \"decade\": 1610}, {\"Year\": \"1620\", \"color\": \"green\", \"relative frequency\": 27.46, \"decade\": 1620}, {\"Year\": \"1621\", \"color\": \"green\", \"relative frequency\": 28.63, \"decade\": 1620}, {\"Year\": \"1622\", \"color\": \"green\", \"relative frequency\": 24.24, \"decade\": 1620}, {\"Year\": \"1623\", \"color\": \"green\", \"relative frequency\": 31.56, \"decade\": 1620}, {\"Year\": \"1624\", \"color\": \"green\", \"relative frequency\": 19.25, \"decade\": 1620}, {\"Year\": \"1625\", \"color\": \"green\", \"relative frequency\": 43.51, \"decade\": 1620}, {\"Year\": \"1626\", \"color\": \"green\", \"relative frequency\": 16.93, \"decade\": 1620}, {\"Year\": \"1627\", \"color\": \"green\", \"relative frequency\": 35.38, \"decade\": 1620}, {\"Year\": \"1628\", \"color\": \"green\", \"relative frequency\": 24.05, \"decade\": 1620}, {\"Year\": \"1629\", \"color\": \"green\", \"relative frequency\": 126.57, \"decade\": 1620}, {\"Year\": \"1630\", \"color\": \"green\", \"relative frequency\": 28.68, \"decade\": 1630}, {\"Year\": \"1631\", \"color\": \"green\", \"relative frequency\": 22.26, \"decade\": 1630}, {\"Year\": \"1632\", \"color\": \"green\", \"relative frequency\": 18.55, \"decade\": 1630}, {\"Year\": \"1633\", \"color\": \"green\", \"relative frequency\": 137.62, \"decade\": 1630}, {\"Year\": \"1634\", \"color\": \"green\", \"relative frequency\": 95.19, \"decade\": 1630}, {\"Year\": \"1635\", \"color\": \"green\", \"relative frequency\": 31.92, \"decade\": 1630}, {\"Year\": \"1636\", \"color\": \"green\", \"relative frequency\": 32.14, \"decade\": 1630}, {\"Year\": \"1637\", \"color\": \"green\", \"relative frequency\": 25.45, \"decade\": 1630}, {\"Year\": \"1638\", \"color\": \"green\", \"relative frequency\": 25.24, \"decade\": 1630}, {\"Year\": \"1639\", \"color\": \"green\", \"relative frequency\": 38.35, \"decade\": 1630}, {\"Year\": \"1640\", \"color\": \"green\", \"relative frequency\": 224.16, \"decade\": 1640}, {\"Year\": \"1641\", \"color\": \"green\", \"relative frequency\": 24.29, \"decade\": 1640}, {\"Year\": \"1642\", \"color\": \"green\", \"relative frequency\": 16.42, \"decade\": 1640}, {\"Year\": \"1643\", \"color\": \"green\", \"relative frequency\": 13.99, \"decade\": 1640}, {\"Year\": \"1644\", \"color\": \"green\", \"relative frequency\": 18.14, \"decade\": 1640}, {\"Year\": \"1645\", \"color\": \"green\", \"relative frequency\": 13.2, \"decade\": 1640}, {\"Year\": \"1646\", \"color\": \"green\", \"relative frequency\": 16.21, \"decade\": 1640}, {\"Year\": \"1647\", \"color\": \"green\", \"relative frequency\": 19.47, \"decade\": 1640}, {\"Year\": \"1648\", \"color\": \"green\", \"relative frequency\": 16.22, \"decade\": 1640}, {\"Year\": \"1649\", \"color\": \"green\", \"relative frequency\": 26.05, \"decade\": 1640}, {\"Year\": \"1650\", \"color\": \"green\", \"relative frequency\": 20.72, \"decade\": 1650}, {\"Year\": \"1651\", \"color\": \"green\", \"relative frequency\": 37.12, \"decade\": 1650}, {\"Year\": \"1652\", \"color\": \"green\", \"relative frequency\": 53.18, \"decade\": 1650}, {\"Year\": \"1653\", \"color\": \"green\", \"relative frequency\": 40.37, \"decade\": 1650}, {\"Year\": \"1654\", \"color\": \"green\", \"relative frequency\": 20.5, \"decade\": 1650}, {\"Year\": \"1655\", \"color\": \"green\", \"relative frequency\": 25.62, \"decade\": 1650}, {\"Year\": \"1656\", \"color\": \"green\", \"relative frequency\": 24.27, \"decade\": 1650}, {\"Year\": \"1657\", \"color\": \"green\", \"relative frequency\": 40.43, \"decade\": 1650}, {\"Year\": \"1658\", \"color\": \"green\", \"relative frequency\": 37.69, \"decade\": 1650}, {\"Year\": \"1659\", \"color\": \"green\", \"relative frequency\": 28.35, \"decade\": 1650}, {\"Year\": \"1660\", \"color\": \"green\", \"relative frequency\": 24.19, \"decade\": 1660}, {\"Year\": \"1661\", \"color\": \"green\", \"relative frequency\": 31.1, \"decade\": 1660}, {\"Year\": \"1662\", \"color\": \"green\", \"relative frequency\": 28.15, \"decade\": 1660}, {\"Year\": \"1663\", \"color\": \"green\", \"relative frequency\": 21.4, \"decade\": 1660}, {\"Year\": \"1664\", \"color\": \"green\", \"relative frequency\": 57.2, \"decade\": 1660}, {\"Year\": \"1665\", \"color\": \"green\", \"relative frequency\": 50.9, \"decade\": 1660}, {\"Year\": \"1666\", \"color\": \"green\", \"relative frequency\": 39.16, \"decade\": 1660}, {\"Year\": \"1667\", \"color\": \"green\", \"relative frequency\": 13.58, \"decade\": 1660}, {\"Year\": \"1668\", \"color\": \"green\", \"relative frequency\": 24.79, \"decade\": 1660}, {\"Year\": \"1669\", \"color\": \"green\", \"relative frequency\": 36.08, \"decade\": 1660}, {\"Year\": \"1670\", \"color\": \"green\", \"relative frequency\": 49.25, \"decade\": 1670}, {\"Year\": \"1671\", \"color\": \"green\", \"relative frequency\": 34.63, \"decade\": 1670}, {\"Year\": \"1672\", \"color\": \"green\", \"relative frequency\": 19.59, \"decade\": 1670}, {\"Year\": \"1673\", \"color\": \"green\", \"relative frequency\": 33.87, \"decade\": 1670}, {\"Year\": \"1674\", \"color\": \"green\", \"relative frequency\": 19.6, \"decade\": 1670}, {\"Year\": \"1675\", \"color\": \"green\", \"relative frequency\": 28.57, \"decade\": 1670}, {\"Year\": \"1676\", \"color\": \"green\", \"relative frequency\": 23.97, \"decade\": 1670}, {\"Year\": \"1677\", \"color\": \"green\", \"relative frequency\": 32.68, \"decade\": 1670}, {\"Year\": \"1678\", \"color\": \"green\", \"relative frequency\": 43.7, \"decade\": 1670}, {\"Year\": \"1679\", \"color\": \"green\", \"relative frequency\": 31.54, \"decade\": 1670}, {\"Year\": \"1680\", \"color\": \"green\", \"relative frequency\": 15.93, \"decade\": 1680}, {\"Year\": \"1681\", \"color\": \"green\", \"relative frequency\": 28.39, \"decade\": 1680}, {\"Year\": \"1682\", \"color\": \"green\", \"relative frequency\": 37.48, \"decade\": 1680}, {\"Year\": \"1683\", \"color\": \"green\", \"relative frequency\": 32.32, \"decade\": 1680}, {\"Year\": \"1684\", \"color\": \"green\", \"relative frequency\": 20.84, \"decade\": 1680}, {\"Year\": \"1685\", \"color\": \"green\", \"relative frequency\": 36.11, \"decade\": 1680}, {\"Year\": \"1686\", \"color\": \"green\", \"relative frequency\": 38.8, \"decade\": 1680}, {\"Year\": \"1687\", \"color\": \"green\", \"relative frequency\": 31.43, \"decade\": 1680}, {\"Year\": \"1688\", \"color\": \"green\", \"relative frequency\": 48.43, \"decade\": 1680}, {\"Year\": \"1689\", \"color\": \"green\", \"relative frequency\": 13.78, \"decade\": 1680}, {\"Year\": \"1690\", \"color\": \"green\", \"relative frequency\": 18.23, \"decade\": 1690}, {\"Year\": \"1691\", \"color\": \"green\", \"relative frequency\": 19.59, \"decade\": 1690}, {\"Year\": \"1692\", \"color\": \"green\", \"relative frequency\": 15.47, \"decade\": 1690}, {\"Year\": \"1693\", \"color\": \"green\", \"relative frequency\": 31.24, \"decade\": 1690}, {\"Year\": \"1694\", \"color\": \"green\", \"relative frequency\": 35.01, \"decade\": 1690}, {\"Year\": \"1695\", \"color\": \"green\", \"relative frequency\": 23.54, \"decade\": 1690}, {\"Year\": \"1696\", \"color\": \"green\", \"relative frequency\": 31.43, \"decade\": 1690}, {\"Year\": \"1697\", \"color\": \"green\", \"relative frequency\": 27.53, \"decade\": 1690}, {\"Year\": \"1698\", \"color\": \"green\", \"relative frequency\": 28.54, \"decade\": 1690}, {\"Year\": \"1699\", \"color\": \"green\", \"relative frequency\": 23.12, \"decade\": 1690}, {\"Year\": \"1600\", \"color\": \"yellow\", \"relative frequency\": 6.28, \"decade\": 1600}, {\"Year\": \"1601\", \"color\": \"yellow\", \"relative frequency\": 23.16, \"decade\": 1600}, {\"Year\": \"1602\", \"color\": \"yellow\", \"relative frequency\": 7.38, \"decade\": 1600}, {\"Year\": \"1603\", \"color\": \"yellow\", \"relative frequency\": 7.99, \"decade\": 1600}, {\"Year\": \"1604\", \"color\": \"yellow\", \"relative frequency\": 3.46, \"decade\": 1600}, {\"Year\": \"1605\", \"color\": \"yellow\", \"relative frequency\": 106.4, \"decade\": 1600}, {\"Year\": \"1606\", \"color\": \"yellow\", \"relative frequency\": 14.43, \"decade\": 1600}, {\"Year\": \"1607\", \"color\": \"yellow\", \"relative frequency\": 17.01, \"decade\": 1600}, {\"Year\": \"1608\", \"color\": \"yellow\", \"relative frequency\": 11.1, \"decade\": 1600}, {\"Year\": \"1609\", \"color\": \"yellow\", \"relative frequency\": 9.62, \"decade\": 1600}, {\"Year\": \"1610\", \"color\": \"yellow\", \"relative frequency\": 13.97, \"decade\": 1610}, {\"Year\": \"1611\", \"color\": \"yellow\", \"relative frequency\": 14.35, \"decade\": 1610}, {\"Year\": \"1612\", \"color\": \"yellow\", \"relative frequency\": 9.72, \"decade\": 1610}, {\"Year\": \"1613\", \"color\": \"yellow\", \"relative frequency\": 15.71, \"decade\": 1610}, {\"Year\": \"1614\", \"color\": \"yellow\", \"relative frequency\": 10.59, \"decade\": 1610}, {\"Year\": \"1615\", \"color\": \"yellow\", \"relative frequency\": 28.61, \"decade\": 1610}, {\"Year\": \"1616\", \"color\": \"yellow\", \"relative frequency\": 31.04, \"decade\": 1610}, {\"Year\": \"1617\", \"color\": \"yellow\", \"relative frequency\": 10.1, \"decade\": 1610}, {\"Year\": \"1618\", \"color\": \"yellow\", \"relative frequency\": 19.13, \"decade\": 1610}, {\"Year\": \"1619\", \"color\": \"yellow\", \"relative frequency\": 4.73, \"decade\": 1610}, {\"Year\": \"1620\", \"color\": \"yellow\", \"relative frequency\": 10.08, \"decade\": 1620}, {\"Year\": \"1621\", \"color\": \"yellow\", \"relative frequency\": 14.42, \"decade\": 1620}, {\"Year\": \"1622\", \"color\": \"yellow\", \"relative frequency\": 11.64, \"decade\": 1620}, {\"Year\": \"1623\", \"color\": \"yellow\", \"relative frequency\": 9.67, \"decade\": 1620}, {\"Year\": \"1624\", \"color\": \"yellow\", \"relative frequency\": 5.01, \"decade\": 1620}, {\"Year\": \"1625\", \"color\": \"yellow\", \"relative frequency\": 21.47, \"decade\": 1620}, {\"Year\": \"1626\", \"color\": \"yellow\", \"relative frequency\": 8.62, \"decade\": 1620}, {\"Year\": \"1627\", \"color\": \"yellow\", \"relative frequency\": 9.49, \"decade\": 1620}, {\"Year\": \"1628\", \"color\": \"yellow\", \"relative frequency\": 10.75, \"decade\": 1620}, {\"Year\": \"1629\", \"color\": \"yellow\", \"relative frequency\": 134.62, \"decade\": 1620}, {\"Year\": \"1630\", \"color\": \"yellow\", \"relative frequency\": 9.01, \"decade\": 1630}, {\"Year\": \"1631\", \"color\": \"yellow\", \"relative frequency\": 9.07, \"decade\": 1630}, {\"Year\": \"1632\", \"color\": \"yellow\", \"relative frequency\": 5.65, \"decade\": 1630}, {\"Year\": \"1633\", \"color\": \"yellow\", \"relative frequency\": 138.29, \"decade\": 1630}, {\"Year\": \"1634\", \"color\": \"yellow\", \"relative frequency\": 40.09, \"decade\": 1630}, {\"Year\": \"1635\", \"color\": \"yellow\", \"relative frequency\": 13.52, \"decade\": 1630}, {\"Year\": \"1636\", \"color\": \"yellow\", \"relative frequency\": 8.54, \"decade\": 1630}, {\"Year\": \"1637\", \"color\": \"yellow\", \"relative frequency\": 16.4, \"decade\": 1630}, {\"Year\": \"1638\", \"color\": \"yellow\", \"relative frequency\": 8.41, \"decade\": 1630}, {\"Year\": \"1639\", \"color\": \"yellow\", \"relative frequency\": 15.03, \"decade\": 1630}, {\"Year\": \"1640\", \"color\": \"yellow\", \"relative frequency\": 189.6, \"decade\": 1640}, {\"Year\": \"1641\", \"color\": \"yellow\", \"relative frequency\": 11.0, \"decade\": 1640}, {\"Year\": \"1642\", \"color\": \"yellow\", \"relative frequency\": 2.91, \"decade\": 1640}, {\"Year\": \"1643\", \"color\": \"yellow\", \"relative frequency\": 3.36, \"decade\": 1640}, {\"Year\": \"1644\", \"color\": \"yellow\", \"relative frequency\": 6.43, \"decade\": 1640}, {\"Year\": \"1645\", \"color\": \"yellow\", \"relative frequency\": 1.45, \"decade\": 1640}, {\"Year\": \"1646\", \"color\": \"yellow\", \"relative frequency\": 2.69, \"decade\": 1640}, {\"Year\": \"1647\", \"color\": \"yellow\", \"relative frequency\": 2.55, \"decade\": 1640}, {\"Year\": \"1648\", \"color\": \"yellow\", \"relative frequency\": 3.64, \"decade\": 1640}, {\"Year\": \"1649\", \"color\": \"yellow\", \"relative frequency\": 15.46, \"decade\": 1640}, {\"Year\": \"1650\", \"color\": \"yellow\", \"relative frequency\": 5.48, \"decade\": 1650}, {\"Year\": \"1651\", \"color\": \"yellow\", \"relative frequency\": 25.99, \"decade\": 1650}, {\"Year\": \"1652\", \"color\": \"yellow\", \"relative frequency\": 24.53, \"decade\": 1650}, {\"Year\": \"1653\", \"color\": \"yellow\", \"relative frequency\": 23.54, \"decade\": 1650}, {\"Year\": \"1654\", \"color\": \"yellow\", \"relative frequency\": 7.39, \"decade\": 1650}, {\"Year\": \"1655\", \"color\": \"yellow\", \"relative frequency\": 18.3, \"decade\": 1650}, {\"Year\": \"1656\", \"color\": \"yellow\", \"relative frequency\": 15.03, \"decade\": 1650}, {\"Year\": \"1657\", \"color\": \"yellow\", \"relative frequency\": 26.79, \"decade\": 1650}, {\"Year\": \"1658\", \"color\": \"yellow\", \"relative frequency\": 25.43, \"decade\": 1650}, {\"Year\": \"1659\", \"color\": \"yellow\", \"relative frequency\": 16.83, \"decade\": 1650}, {\"Year\": \"1660\", \"color\": \"yellow\", \"relative frequency\": 10.17, \"decade\": 1660}, {\"Year\": \"1661\", \"color\": \"yellow\", \"relative frequency\": 10.21, \"decade\": 1660}, {\"Year\": \"1662\", \"color\": \"yellow\", \"relative frequency\": 13.61, \"decade\": 1660}, {\"Year\": \"1663\", \"color\": \"yellow\", \"relative frequency\": 13.02, \"decade\": 1660}, {\"Year\": \"1664\", \"color\": \"yellow\", \"relative frequency\": 65.36, \"decade\": 1660}, {\"Year\": \"1665\", \"color\": \"yellow\", \"relative frequency\": 57.23, \"decade\": 1660}, {\"Year\": \"1666\", \"color\": \"yellow\", \"relative frequency\": 24.88, \"decade\": 1660}, {\"Year\": \"1667\", \"color\": \"yellow\", \"relative frequency\": 4.07, \"decade\": 1660}, {\"Year\": \"1668\", \"color\": \"yellow\", \"relative frequency\": 15.1, \"decade\": 1660}, {\"Year\": \"1669\", \"color\": \"yellow\", \"relative frequency\": 18.79, \"decade\": 1660}, {\"Year\": \"1670\", \"color\": \"yellow\", \"relative frequency\": 36.86, \"decade\": 1670}, {\"Year\": \"1671\", \"color\": \"yellow\", \"relative frequency\": 25.63, \"decade\": 1670}, {\"Year\": \"1672\", \"color\": \"yellow\", \"relative frequency\": 9.52, \"decade\": 1670}, {\"Year\": \"1673\", \"color\": \"yellow\", \"relative frequency\": 33.87, \"decade\": 1670}, {\"Year\": \"1674\", \"color\": \"yellow\", \"relative frequency\": 9.28, \"decade\": 1670}, {\"Year\": \"1675\", \"color\": \"yellow\", \"relative frequency\": 17.99, \"decade\": 1670}, {\"Year\": \"1676\", \"color\": \"yellow\", \"relative frequency\": 12.98, \"decade\": 1670}, {\"Year\": \"1677\", \"color\": \"yellow\", \"relative frequency\": 19.38, \"decade\": 1670}, {\"Year\": \"1678\", \"color\": \"yellow\", \"relative frequency\": 65.2, \"decade\": 1670}, {\"Year\": \"1679\", \"color\": \"yellow\", \"relative frequency\": 15.5, \"decade\": 1670}, {\"Year\": \"1680\", \"color\": \"yellow\", \"relative frequency\": 7.53, \"decade\": 1680}, {\"Year\": \"1681\", \"color\": \"yellow\", \"relative frequency\": 13.75, \"decade\": 1680}, {\"Year\": \"1682\", \"color\": \"yellow\", \"relative frequency\": 36.4, \"decade\": 1680}, {\"Year\": \"1683\", \"color\": \"yellow\", \"relative frequency\": 21.17, \"decade\": 1680}, {\"Year\": \"1684\", \"color\": \"yellow\", \"relative frequency\": 18.77, \"decade\": 1680}, {\"Year\": \"1685\", \"color\": \"yellow\", \"relative frequency\": 20.9, \"decade\": 1680}, {\"Year\": \"1686\", \"color\": \"yellow\", \"relative frequency\": 31.19, \"decade\": 1680}, {\"Year\": \"1687\", \"color\": \"yellow\", \"relative frequency\": 17.99, \"decade\": 1680}, {\"Year\": \"1688\", \"color\": \"yellow\", \"relative frequency\": 77.89, \"decade\": 1680}, {\"Year\": \"1689\", \"color\": \"yellow\", \"relative frequency\": 5.05, \"decade\": 1680}, {\"Year\": \"1690\", \"color\": \"yellow\", \"relative frequency\": 14.55, \"decade\": 1690}, {\"Year\": \"1691\", \"color\": \"yellow\", \"relative frequency\": 4.1, \"decade\": 1690}, {\"Year\": \"1692\", \"color\": \"yellow\", \"relative frequency\": 7.45, \"decade\": 1690}, {\"Year\": \"1693\", \"color\": \"yellow\", \"relative frequency\": 20.6, \"decade\": 1690}, {\"Year\": \"1694\", \"color\": \"yellow\", \"relative frequency\": 39.82, \"decade\": 1690}, {\"Year\": \"1695\", \"color\": \"yellow\", \"relative frequency\": 12.79, \"decade\": 1690}, {\"Year\": \"1696\", \"color\": \"yellow\", \"relative frequency\": 15.35, \"decade\": 1690}, {\"Year\": \"1697\", \"color\": \"yellow\", \"relative frequency\": 20.72, \"decade\": 1690}, {\"Year\": \"1698\", \"color\": \"yellow\", \"relative frequency\": 13.52, \"decade\": 1690}, {\"Year\": \"1699\", \"color\": \"yellow\", \"relative frequency\": 13.95, \"decade\": 1690}, {\"Year\": \"1600\", \"color\": \"orange\", \"relative frequency\": 6.28, \"decade\": 1600}, {\"Year\": \"1601\", \"color\": \"orange\", \"relative frequency\": 23.16, \"decade\": 1600}, {\"Year\": \"1602\", \"color\": \"orange\", \"relative frequency\": 7.38, \"decade\": 1600}, {\"Year\": \"1603\", \"color\": \"orange\", \"relative frequency\": 7.99, \"decade\": 1600}, {\"Year\": \"1604\", \"color\": \"orange\", \"relative frequency\": 3.46, \"decade\": 1600}, {\"Year\": \"1605\", \"color\": \"orange\", \"relative frequency\": 106.4, \"decade\": 1600}, {\"Year\": \"1606\", \"color\": \"orange\", \"relative frequency\": 14.43, \"decade\": 1600}, {\"Year\": \"1607\", \"color\": \"orange\", \"relative frequency\": 17.01, \"decade\": 1600}, {\"Year\": \"1608\", \"color\": \"orange\", \"relative frequency\": 11.1, \"decade\": 1600}, {\"Year\": \"1609\", \"color\": \"orange\", \"relative frequency\": 9.62, \"decade\": 1600}, {\"Year\": \"1610\", \"color\": \"orange\", \"relative frequency\": 13.97, \"decade\": 1610}, {\"Year\": \"1611\", \"color\": \"orange\", \"relative frequency\": 14.35, \"decade\": 1610}, {\"Year\": \"1612\", \"color\": \"orange\", \"relative frequency\": 9.72, \"decade\": 1610}, {\"Year\": \"1613\", \"color\": \"orange\", \"relative frequency\": 15.71, \"decade\": 1610}, {\"Year\": \"1614\", \"color\": \"orange\", \"relative frequency\": 10.59, \"decade\": 1610}, {\"Year\": \"1615\", \"color\": \"orange\", \"relative frequency\": 28.61, \"decade\": 1610}, {\"Year\": \"1616\", \"color\": \"orange\", \"relative frequency\": 31.04, \"decade\": 1610}, {\"Year\": \"1617\", \"color\": \"orange\", \"relative frequency\": 10.1, \"decade\": 1610}, {\"Year\": \"1618\", \"color\": \"orange\", \"relative frequency\": 19.13, \"decade\": 1610}, {\"Year\": \"1619\", \"color\": \"orange\", \"relative frequency\": 4.73, \"decade\": 1610}, {\"Year\": \"1620\", \"color\": \"orange\", \"relative frequency\": 10.08, \"decade\": 1620}, {\"Year\": \"1621\", \"color\": \"orange\", \"relative frequency\": 14.42, \"decade\": 1620}, {\"Year\": \"1622\", \"color\": \"orange\", \"relative frequency\": 11.64, \"decade\": 1620}, {\"Year\": \"1623\", \"color\": \"orange\", \"relative frequency\": 9.67, \"decade\": 1620}, {\"Year\": \"1624\", \"color\": \"orange\", \"relative frequency\": 5.01, \"decade\": 1620}, {\"Year\": \"1625\", \"color\": \"orange\", \"relative frequency\": 21.47, \"decade\": 1620}, {\"Year\": \"1626\", \"color\": \"orange\", \"relative frequency\": 8.62, \"decade\": 1620}, {\"Year\": \"1627\", \"color\": \"orange\", \"relative frequency\": 9.49, \"decade\": 1620}, {\"Year\": \"1628\", \"color\": \"orange\", \"relative frequency\": 10.75, \"decade\": 1620}, {\"Year\": \"1629\", \"color\": \"orange\", \"relative frequency\": 134.62, \"decade\": 1620}, {\"Year\": \"1630\", \"color\": \"orange\", \"relative frequency\": 9.01, \"decade\": 1630}, {\"Year\": \"1631\", \"color\": \"orange\", \"relative frequency\": 9.07, \"decade\": 1630}, {\"Year\": \"1632\", \"color\": \"orange\", \"relative frequency\": 5.65, \"decade\": 1630}, {\"Year\": \"1633\", \"color\": \"orange\", \"relative frequency\": 138.29, \"decade\": 1630}, {\"Year\": \"1634\", \"color\": \"orange\", \"relative frequency\": 40.09, \"decade\": 1630}, {\"Year\": \"1635\", \"color\": \"orange\", \"relative frequency\": 13.52, \"decade\": 1630}, {\"Year\": \"1636\", \"color\": \"orange\", \"relative frequency\": 8.54, \"decade\": 1630}, {\"Year\": \"1637\", \"color\": \"orange\", \"relative frequency\": 16.4, \"decade\": 1630}, {\"Year\": \"1638\", \"color\": \"orange\", \"relative frequency\": 8.41, \"decade\": 1630}, {\"Year\": \"1639\", \"color\": \"orange\", \"relative frequency\": 15.03, \"decade\": 1630}, {\"Year\": \"1640\", \"color\": \"orange\", \"relative frequency\": 189.6, \"decade\": 1640}, {\"Year\": \"1641\", \"color\": \"orange\", \"relative frequency\": 11.0, \"decade\": 1640}, {\"Year\": \"1642\", \"color\": \"orange\", \"relative frequency\": 2.91, \"decade\": 1640}, {\"Year\": \"1643\", \"color\": \"orange\", \"relative frequency\": 3.36, \"decade\": 1640}, {\"Year\": \"1644\", \"color\": \"orange\", \"relative frequency\": 6.43, \"decade\": 1640}, {\"Year\": \"1645\", \"color\": \"orange\", \"relative frequency\": 1.45, \"decade\": 1640}, {\"Year\": \"1646\", \"color\": \"orange\", \"relative frequency\": 2.69, \"decade\": 1640}, {\"Year\": \"1647\", \"color\": \"orange\", \"relative frequency\": 2.55, \"decade\": 1640}, {\"Year\": \"1648\", \"color\": \"orange\", \"relative frequency\": 3.64, \"decade\": 1640}, {\"Year\": \"1649\", \"color\": \"orange\", \"relative frequency\": 15.46, \"decade\": 1640}, {\"Year\": \"1650\", \"color\": \"orange\", \"relative frequency\": 5.48, \"decade\": 1650}, {\"Year\": \"1651\", \"color\": \"orange\", \"relative frequency\": 25.99, \"decade\": 1650}, {\"Year\": \"1652\", \"color\": \"orange\", \"relative frequency\": 24.53, \"decade\": 1650}, {\"Year\": \"1653\", \"color\": \"orange\", \"relative frequency\": 23.54, \"decade\": 1650}, {\"Year\": \"1654\", \"color\": \"orange\", \"relative frequency\": 7.39, \"decade\": 1650}, {\"Year\": \"1655\", \"color\": \"orange\", \"relative frequency\": 18.3, \"decade\": 1650}, {\"Year\": \"1656\", \"color\": \"orange\", \"relative frequency\": 15.03, \"decade\": 1650}, {\"Year\": \"1657\", \"color\": \"orange\", \"relative frequency\": 26.79, \"decade\": 1650}, {\"Year\": \"1658\", \"color\": \"orange\", \"relative frequency\": 25.43, \"decade\": 1650}, {\"Year\": \"1659\", \"color\": \"orange\", \"relative frequency\": 16.83, \"decade\": 1650}, {\"Year\": \"1660\", \"color\": \"orange\", \"relative frequency\": 10.17, \"decade\": 1660}, {\"Year\": \"1661\", \"color\": \"orange\", \"relative frequency\": 10.21, \"decade\": 1660}, {\"Year\": \"1662\", \"color\": \"orange\", \"relative frequency\": 13.61, \"decade\": 1660}, {\"Year\": \"1663\", \"color\": \"orange\", \"relative frequency\": 13.02, \"decade\": 1660}, {\"Year\": \"1664\", \"color\": \"orange\", \"relative frequency\": 65.36, \"decade\": 1660}, {\"Year\": \"1665\", \"color\": \"orange\", \"relative frequency\": 57.23, \"decade\": 1660}, {\"Year\": \"1666\", \"color\": \"orange\", \"relative frequency\": 24.88, \"decade\": 1660}, {\"Year\": \"1667\", \"color\": \"orange\", \"relative frequency\": 4.07, \"decade\": 1660}, {\"Year\": \"1668\", \"color\": \"orange\", \"relative frequency\": 15.1, \"decade\": 1660}, {\"Year\": \"1669\", \"color\": \"orange\", \"relative frequency\": 18.79, \"decade\": 1660}, {\"Year\": \"1670\", \"color\": \"orange\", \"relative frequency\": 36.86, \"decade\": 1670}, {\"Year\": \"1671\", \"color\": \"orange\", \"relative frequency\": 25.63, \"decade\": 1670}, {\"Year\": \"1672\", \"color\": \"orange\", \"relative frequency\": 9.52, \"decade\": 1670}, {\"Year\": \"1673\", \"color\": \"orange\", \"relative frequency\": 33.87, \"decade\": 1670}, {\"Year\": \"1674\", \"color\": \"orange\", \"relative frequency\": 9.28, \"decade\": 1670}, {\"Year\": \"1675\", \"color\": \"orange\", \"relative frequency\": 17.99, \"decade\": 1670}, {\"Year\": \"1676\", \"color\": \"orange\", \"relative frequency\": 12.98, \"decade\": 1670}, {\"Year\": \"1677\", \"color\": \"orange\", \"relative frequency\": 19.38, \"decade\": 1670}, {\"Year\": \"1678\", \"color\": \"orange\", \"relative frequency\": 65.2, \"decade\": 1670}, {\"Year\": \"1679\", \"color\": \"orange\", \"relative frequency\": 15.5, \"decade\": 1670}, {\"Year\": \"1680\", \"color\": \"orange\", \"relative frequency\": 7.53, \"decade\": 1680}, {\"Year\": \"1681\", \"color\": \"orange\", \"relative frequency\": 13.75, \"decade\": 1680}, {\"Year\": \"1682\", \"color\": \"orange\", \"relative frequency\": 36.4, \"decade\": 1680}, {\"Year\": \"1683\", \"color\": \"orange\", \"relative frequency\": 21.17, \"decade\": 1680}, {\"Year\": \"1684\", \"color\": \"orange\", \"relative frequency\": 18.77, \"decade\": 1680}, {\"Year\": \"1685\", \"color\": \"orange\", \"relative frequency\": 20.9, \"decade\": 1680}, {\"Year\": \"1686\", \"color\": \"orange\", \"relative frequency\": 31.19, \"decade\": 1680}, {\"Year\": \"1687\", \"color\": \"orange\", \"relative frequency\": 17.99, \"decade\": 1680}, {\"Year\": \"1688\", \"color\": \"orange\", \"relative frequency\": 77.89, \"decade\": 1680}, {\"Year\": \"1689\", \"color\": \"orange\", \"relative frequency\": 5.05, \"decade\": 1680}, {\"Year\": \"1690\", \"color\": \"orange\", \"relative frequency\": 14.55, \"decade\": 1690}, {\"Year\": \"1691\", \"color\": \"orange\", \"relative frequency\": 4.1, \"decade\": 1690}, {\"Year\": \"1692\", \"color\": \"orange\", \"relative frequency\": 7.45, \"decade\": 1690}, {\"Year\": \"1693\", \"color\": \"orange\", \"relative frequency\": 20.6, \"decade\": 1690}, {\"Year\": \"1694\", \"color\": \"orange\", \"relative frequency\": 39.82, \"decade\": 1690}, {\"Year\": \"1695\", \"color\": \"orange\", \"relative frequency\": 12.79, \"decade\": 1690}, {\"Year\": \"1696\", \"color\": \"orange\", \"relative frequency\": 15.35, \"decade\": 1690}, {\"Year\": \"1697\", \"color\": \"orange\", \"relative frequency\": 20.72, \"decade\": 1690}, {\"Year\": \"1698\", \"color\": \"orange\", \"relative frequency\": 13.52, \"decade\": 1690}, {\"Year\": \"1699\", \"color\": \"orange\", \"relative frequency\": 13.95, \"decade\": 1690}, {\"Year\": \"1600\", \"color\": \"grey\", \"relative frequency\": 1.05, \"decade\": 1600}, {\"Year\": \"1601\", \"color\": \"grey\", \"relative frequency\": 0.0, \"decade\": 1600}, {\"Year\": \"1602\", \"color\": \"grey\", \"relative frequency\": 0.34, \"decade\": 1600}, {\"Year\": \"1603\", \"color\": \"grey\", \"relative frequency\": 1.66, \"decade\": 1600}, {\"Year\": \"1604\", \"color\": \"grey\", \"relative frequency\": 2.69, \"decade\": 1600}, {\"Year\": \"1605\", \"color\": \"grey\", \"relative frequency\": 0.95, \"decade\": 1600}, {\"Year\": \"1606\", \"color\": \"grey\", \"relative frequency\": 0.71, \"decade\": 1600}, {\"Year\": \"1607\", \"color\": \"grey\", \"relative frequency\": 0.4, \"decade\": 1600}, {\"Year\": \"1608\", \"color\": \"grey\", \"relative frequency\": 0.36, \"decade\": 1600}, {\"Year\": \"1609\", \"color\": \"grey\", \"relative frequency\": 0.89, \"decade\": 1600}, {\"Year\": \"1610\", \"color\": \"grey\", \"relative frequency\": 0.59, \"decade\": 1610}, {\"Year\": \"1611\", \"color\": \"grey\", \"relative frequency\": 0.55, \"decade\": 1610}, {\"Year\": \"1612\", \"color\": \"grey\", \"relative frequency\": 0.47, \"decade\": 1610}, {\"Year\": \"1613\", \"color\": \"grey\", \"relative frequency\": 1.0, \"decade\": 1610}, {\"Year\": \"1614\", \"color\": \"grey\", \"relative frequency\": 0.3, \"decade\": 1610}, {\"Year\": \"1615\", \"color\": \"grey\", \"relative frequency\": 0.54, \"decade\": 1610}, {\"Year\": \"1616\", \"color\": \"grey\", \"relative frequency\": 1.03, \"decade\": 1610}, {\"Year\": \"1617\", \"color\": \"grey\", \"relative frequency\": 0.67, \"decade\": 1610}, {\"Year\": \"1618\", \"color\": \"grey\", \"relative frequency\": 1.5, \"decade\": 1610}, {\"Year\": \"1619\", \"color\": \"grey\", \"relative frequency\": 0.19, \"decade\": 1610}, {\"Year\": \"1620\", \"color\": \"grey\", \"relative frequency\": 0.33, \"decade\": 1620}, {\"Year\": \"1621\", \"color\": \"grey\", \"relative frequency\": 0.0, \"decade\": 1620}, {\"Year\": \"1622\", \"color\": \"grey\", \"relative frequency\": 0.39, \"decade\": 1620}, {\"Year\": \"1623\", \"color\": \"grey\", \"relative frequency\": 1.06, \"decade\": 1620}, {\"Year\": \"1624\", \"color\": \"grey\", \"relative frequency\": 0.0, \"decade\": 1620}, {\"Year\": \"1625\", \"color\": \"grey\", \"relative frequency\": 3.35, \"decade\": 1620}, {\"Year\": \"1626\", \"color\": \"grey\", \"relative frequency\": 0.92, \"decade\": 1620}, {\"Year\": \"1627\", \"color\": \"grey\", \"relative frequency\": 0.2, \"decade\": 1620}, {\"Year\": \"1628\", \"color\": \"grey\", \"relative frequency\": 0.85, \"decade\": 1620}, {\"Year\": \"1629\", \"color\": \"grey\", \"relative frequency\": 0.14, \"decade\": 1620}, {\"Year\": \"1630\", \"color\": \"grey\", \"relative frequency\": 1.31, \"decade\": 1630}, {\"Year\": \"1631\", \"color\": \"grey\", \"relative frequency\": 0.57, \"decade\": 1630}, {\"Year\": \"1632\", \"color\": \"grey\", \"relative frequency\": 0.49, \"decade\": 1630}, {\"Year\": \"1633\", \"color\": \"grey\", \"relative frequency\": 0.22, \"decade\": 1630}, {\"Year\": \"1634\", \"color\": \"grey\", \"relative frequency\": 2.05, \"decade\": 1630}, {\"Year\": \"1635\", \"color\": \"grey\", \"relative frequency\": 0.14, \"decade\": 1630}, {\"Year\": \"1636\", \"color\": \"grey\", \"relative frequency\": 0.0, \"decade\": 1630}, {\"Year\": \"1637\", \"color\": \"grey\", \"relative frequency\": 0.94, \"decade\": 1630}, {\"Year\": \"1638\", \"color\": \"grey\", \"relative frequency\": 1.35, \"decade\": 1630}, {\"Year\": \"1639\", \"color\": \"grey\", \"relative frequency\": 0.77, \"decade\": 1630}, {\"Year\": \"1640\", \"color\": \"grey\", \"relative frequency\": 1.22, \"decade\": 1640}, {\"Year\": \"1641\", \"color\": \"grey\", \"relative frequency\": 0.1, \"decade\": 1640}, {\"Year\": \"1642\", \"color\": \"grey\", \"relative frequency\": 0.0, \"decade\": 1640}, {\"Year\": \"1643\", \"color\": \"grey\", \"relative frequency\": 0.14, \"decade\": 1640}, {\"Year\": \"1644\", \"color\": \"grey\", \"relative frequency\": 0.14, \"decade\": 1640}, {\"Year\": \"1645\", \"color\": \"grey\", \"relative frequency\": 0.81, \"decade\": 1640}, {\"Year\": \"1646\", \"color\": \"grey\", \"relative frequency\": 0.0, \"decade\": 1640}, {\"Year\": \"1647\", \"color\": \"grey\", \"relative frequency\": 0.43, \"decade\": 1640}, {\"Year\": \"1648\", \"color\": \"grey\", \"relative frequency\": 0.0, \"decade\": 1640}, {\"Year\": \"1649\", \"color\": \"grey\", \"relative frequency\": 0.24, \"decade\": 1640}, {\"Year\": \"1650\", \"color\": \"grey\", \"relative frequency\": 0.64, \"decade\": 1650}, {\"Year\": \"1651\", \"color\": \"grey\", \"relative frequency\": 1.04, \"decade\": 1650}, {\"Year\": \"1652\", \"color\": \"grey\", \"relative frequency\": 0.79, \"decade\": 1650}, {\"Year\": \"1653\", \"color\": \"grey\", \"relative frequency\": 0.83, \"decade\": 1650}, {\"Year\": \"1654\", \"color\": \"grey\", \"relative frequency\": 1.66, \"decade\": 1650}, {\"Year\": \"1655\", \"color\": \"grey\", \"relative frequency\": 0.89, \"decade\": 1650}, {\"Year\": \"1656\", \"color\": \"grey\", \"relative frequency\": 0.81, \"decade\": 1650}, {\"Year\": \"1657\", \"color\": \"grey\", \"relative frequency\": 1.62, \"decade\": 1650}, {\"Year\": \"1658\", \"color\": \"grey\", \"relative frequency\": 1.5, \"decade\": 1650}, {\"Year\": \"1659\", \"color\": \"grey\", \"relative frequency\": 0.31, \"decade\": 1650}, {\"Year\": \"1660\", \"color\": \"grey\", \"relative frequency\": 0.89, \"decade\": 1660}, {\"Year\": \"1661\", \"color\": \"grey\", \"relative frequency\": 0.71, \"decade\": 1660}, {\"Year\": \"1662\", \"color\": \"grey\", \"relative frequency\": 1.38, \"decade\": 1660}, {\"Year\": \"1663\", \"color\": \"grey\", \"relative frequency\": 1.13, \"decade\": 1660}, {\"Year\": \"1664\", \"color\": \"grey\", \"relative frequency\": 4.56, \"decade\": 1660}, {\"Year\": \"1665\", \"color\": \"grey\", \"relative frequency\": 2.05, \"decade\": 1660}, {\"Year\": \"1666\", \"color\": \"grey\", \"relative frequency\": 4.44, \"decade\": 1660}, {\"Year\": \"1667\", \"color\": \"grey\", \"relative frequency\": 1.36, \"decade\": 1660}, {\"Year\": \"1668\", \"color\": \"grey\", \"relative frequency\": 2.28, \"decade\": 1660}, {\"Year\": \"1669\", \"color\": \"grey\", \"relative frequency\": 3.13, \"decade\": 1660}, {\"Year\": \"1670\", \"color\": \"grey\", \"relative frequency\": 1.52, \"decade\": 1670}, {\"Year\": \"1671\", \"color\": \"grey\", \"relative frequency\": 4.07, \"decade\": 1670}, {\"Year\": \"1672\", \"color\": \"grey\", \"relative frequency\": 1.12, \"decade\": 1670}, {\"Year\": \"1673\", \"color\": \"grey\", \"relative frequency\": 2.48, \"decade\": 1670}, {\"Year\": \"1674\", \"color\": \"grey\", \"relative frequency\": 2.65, \"decade\": 1670}, {\"Year\": \"1675\", \"color\": \"grey\", \"relative frequency\": 1.69, \"decade\": 1670}, {\"Year\": \"1676\", \"color\": \"grey\", \"relative frequency\": 3.92, \"decade\": 1670}, {\"Year\": \"1677\", \"color\": \"grey\", \"relative frequency\": 2.52, \"decade\": 1670}, {\"Year\": \"1678\", \"color\": \"grey\", \"relative frequency\": 11.59, \"decade\": 1670}, {\"Year\": \"1679\", \"color\": \"grey\", \"relative frequency\": 2.05, \"decade\": 1670}, {\"Year\": \"1680\", \"color\": \"grey\", \"relative frequency\": 1.83, \"decade\": 1680}, {\"Year\": \"1681\", \"color\": \"grey\", \"relative frequency\": 3.17, \"decade\": 1680}, {\"Year\": \"1682\", \"color\": \"grey\", \"relative frequency\": 1.75, \"decade\": 1680}, {\"Year\": \"1683\", \"color\": \"grey\", \"relative frequency\": 6.17, \"decade\": 1680}, {\"Year\": \"1684\", \"color\": \"grey\", \"relative frequency\": 1.96, \"decade\": 1680}, {\"Year\": \"1685\", \"color\": \"grey\", \"relative frequency\": 3.12, \"decade\": 1680}, {\"Year\": \"1686\", \"color\": \"grey\", \"relative frequency\": 2.54, \"decade\": 1680}, {\"Year\": \"1687\", \"color\": \"grey\", \"relative frequency\": 1.01, \"decade\": 1680}, {\"Year\": \"1688\", \"color\": \"grey\", \"relative frequency\": 8.85, \"decade\": 1680}, {\"Year\": \"1689\", \"color\": \"grey\", \"relative frequency\": 1.89, \"decade\": 1680}, {\"Year\": \"1690\", \"color\": \"grey\", \"relative frequency\": 2.3, \"decade\": 1690}, {\"Year\": \"1691\", \"color\": \"grey\", \"relative frequency\": 1.18, \"decade\": 1690}, {\"Year\": \"1692\", \"color\": \"grey\", \"relative frequency\": 1.93, \"decade\": 1690}, {\"Year\": \"1693\", \"color\": \"grey\", \"relative frequency\": 7.07, \"decade\": 1690}, {\"Year\": \"1694\", \"color\": \"grey\", \"relative frequency\": 4.26, \"decade\": 1690}, {\"Year\": \"1695\", \"color\": \"grey\", \"relative frequency\": 2.73, \"decade\": 1690}, {\"Year\": \"1696\", \"color\": \"grey\", \"relative frequency\": 3.2, \"decade\": 1690}, {\"Year\": \"1697\", \"color\": \"grey\", \"relative frequency\": 1.95, \"decade\": 1690}, {\"Year\": \"1698\", \"color\": \"grey\", \"relative frequency\": 2.47, \"decade\": 1690}, {\"Year\": \"1699\", \"color\": \"grey\", \"relative frequency\": 2.55, \"decade\": 1690}]}}, {\"mode\": \"vega-lite\"});\n",
       "</script>"
      ],
      "text/plain": [
       "alt.Chart(...)"
      ]
     },
     "execution_count": 9,
     "metadata": {},
     "output_type": "execute_result"
    }
   ],
   "source": [
    "alt.Chart(by_color).mark_boxplot(extent='min-max').encode(\n",
    "    alt.X('decade:T'),\n",
    "    alt.Y('relative frequency:Q'),\n",
    "    alt.Color(\"color\").scale(None)\n",
    ").properties(width=1000).add_params()"
   ]
  },
  {
   "cell_type": "code",
   "execution_count": null,
   "metadata": {},
   "outputs": [],
   "source": []
  },
  {
   "cell_type": "markdown",
   "metadata": {},
   "source": [
    "### Your turn\n",
    "\n",
    "> Discuss: What kinds of information can you glean from this chart? How can you make the chart more useful?\n",
    "\n",
    "1. Using the [Altair](https://altair-viz.github.io/user_guide/data.html) docs, add a tooltip showing the year, color, and relative frequency when you hover over a point.\n",
    "2. The visualization helps very little for grey and blue -- can you figure out how to \"zoom in\" and get a meaningful sense of their change over time?\n",
    "3. Can you regroup the data by decade (e.g., `[1600, 1609], [1610, 1619], etc.`) and plot the results as a [box plot](https://altair-viz.github.io/user_guide/marks/boxplot.html)?"
   ]
  },
  {
   "cell_type": "markdown",
   "metadata": {},
   "source": [
    "# Bootstrapping and percentage change\n",
    "\n",
    "In this section, we'll use the same dataset to explore \"bootstrapping,\" a \"process of multiple resampling\" that \"gives an insight into the amount of variation in the data and gives us the confidence to generalize from this sample\" [@Brezina2018 231].\n",
    "\n",
    "But first, let's start with a more intuitive method.\n",
    "\n",
    "## Percentage change\n",
    "\n",
    "```math\n",
    "\\text{\\% increase/decrease} = \\frac{\\text{relative frequency in corpus 2} - \\text{relative frequency in corpus 1}}{\\text{relative frequency in corpus 1}} \\times 100\n",
    "```"
   ]
  },
  {
   "cell_type": "markdown",
   "metadata": {},
   "source": [
    "Let's divide our colors corpus in two halves by year, corresponding to the two halves of the 17th Century."
   ]
  },
  {
   "cell_type": "code",
   "execution_count": 10,
   "metadata": {},
   "outputs": [],
   "source": [
    "colors_df_1600_to_1649 = colors_df[colors_df['Year'].astype(int) <= 1649]\n",
    "colors_df_1650_to_1699 = colors_df[colors_df['Year'].astype(int) >= 1650]"
   ]
  },
  {
   "cell_type": "markdown",
   "metadata": {},
   "source": [
    "We'll use the mean relative frequency per color to calculate the percentage change."
   ]
  },
  {
   "cell_type": "code",
   "execution_count": 11,
   "metadata": {},
   "outputs": [
    {
     "data": {
      "text/plain": [
       "np.float64(2.642137081067606)"
      ]
     },
     "execution_count": 11,
     "metadata": {},
     "output_type": "execute_result"
    }
   ],
   "source": [
    "red_1600 = colors_df_1600_to_1649['red'].mean()\n",
    "red_1650 = colors_df_1650_to_1699['red'].mean()\n",
    "red_change = ((red_1650 - red_1600) / red_1600) * 100\n",
    "\n",
    "red_change"
   ]
  },
  {
   "cell_type": "code",
   "execution_count": 12,
   "metadata": {},
   "outputs": [],
   "source": [
    "def perChange(x: str):\n",
    "    colors_df_1600_to_1649 = colors_df[colors_df['Year'].astype(int) <= 1649]\n",
    "    colors_df_1650_to_1699 = colors_df[colors_df['Year'].astype(int) >= 1650]\n",
    "    color_1600 = colors_df_1600_to_1649[x].mean()\n",
    "    color_1650 = colors_df_1650_to_1699[x].mean()\n",
    "    color_change = ((color_1650 - color_1600) / color_1600) * 100\n",
    "\n",
    "    print(f\"{x}: {color_change}\")"
   ]
  },
  {
   "cell_type": "code",
   "execution_count": 13,
   "metadata": {},
   "outputs": [
    {
     "name": "stdout",
     "output_type": "stream",
     "text": [
      "green: -16.310438417930705\n",
      "blue: 104.65306122448983\n"
     ]
    }
   ],
   "source": [
    "perChange('green')\n",
    "perChange('blue')"
   ]
  },
  {
   "cell_type": "markdown",
   "metadata": {},
   "source": [
    "### Your turn\n",
    "\n",
    "Perform the same calculations for the other colors. \n",
    "\n",
    "Can you generalize the calculation of percentage change by writing a function?"
   ]
  },
  {
   "cell_type": "markdown",
   "metadata": {},
   "source": [
    "## Bootstrap test\n",
    "\n",
    "\"The **bootstrap test** [proposed in [@Lijffijt.etal2016]] is a non-parametric test of statistical significance, ... which compares two corpora and computes the p-value associated with the comparison.\" [@Brezina2018 231–232]\n",
    "\n",
    "We can define the bootstrapping test mathematically as follows:\n",
    "\n",
    "```math\n",
    "\\text{p} = \\frac{1 + 2 \\times \\text{number of bootstrapping cycles} \\times \\text{(p1 or 1 – p1, whichever is smaller)}}{1 + \\text{number of bootstrapping cycles}}\n",
    "```\n",
    "\n",
    "where\n",
    "\n",
    "```math\n",
    "p1 = \\frac{\\text{For all boostrapping cycles sume of value H}}{\\text{number of boostrapping cycles}}\n",
    "```\n",
    "\n",
    "and where H can be 1 (value of interest in corpus1 > corpus2), 0.5 (value of interest in corpus1 == corpus2), or 0 (value of interest corpus1 < corpus2).\n",
    "\n",
    "**Note that resampling can include duplicates from the dataset.**\n",
    "\n",
    "Again, you'll find the data that we're working with in the data/ folder -- this time, we're using the \"bootstrap\" CSVs (again provided by Brezina)."
   ]
  },
  {
   "cell_type": "code",
   "execution_count": 14,
   "metadata": {},
   "outputs": [
    {
     "data": {
      "text/html": [
       "<div>\n",
       "<style scoped>\n",
       "    .dataframe tbody tr th:only-of-type {\n",
       "        vertical-align: middle;\n",
       "    }\n",
       "\n",
       "    .dataframe tbody tr th {\n",
       "        vertical-align: top;\n",
       "    }\n",
       "\n",
       "    .dataframe thead th {\n",
       "        text-align: right;\n",
       "    }\n",
       "</style>\n",
       "<table border=\"1\" class=\"dataframe\">\n",
       "  <thead>\n",
       "    <tr style=\"text-align: right;\">\n",
       "      <th></th>\n",
       "      <th>ID_its</th>\n",
       "      <th>1650_59</th>\n",
       "      <th>1660_69</th>\n",
       "    </tr>\n",
       "  </thead>\n",
       "  <tbody>\n",
       "    <tr>\n",
       "      <th>0</th>\n",
       "      <td>1</td>\n",
       "      <td>0.00</td>\n",
       "      <td>0.00</td>\n",
       "    </tr>\n",
       "    <tr>\n",
       "      <th>1</th>\n",
       "      <td>2</td>\n",
       "      <td>662.01</td>\n",
       "      <td>0.00</td>\n",
       "    </tr>\n",
       "    <tr>\n",
       "      <th>2</th>\n",
       "      <td>3</td>\n",
       "      <td>191.36</td>\n",
       "      <td>0.00</td>\n",
       "    </tr>\n",
       "    <tr>\n",
       "      <th>3</th>\n",
       "      <td>4</td>\n",
       "      <td>1625.28</td>\n",
       "      <td>0.00</td>\n",
       "    </tr>\n",
       "    <tr>\n",
       "      <th>4</th>\n",
       "      <td>5</td>\n",
       "      <td>475.62</td>\n",
       "      <td>0.00</td>\n",
       "    </tr>\n",
       "    <tr>\n",
       "      <th>...</th>\n",
       "      <td>...</td>\n",
       "      <td>...</td>\n",
       "      <td>...</td>\n",
       "    </tr>\n",
       "    <tr>\n",
       "      <th>4222</th>\n",
       "      <td>4223</td>\n",
       "      <td>67.85</td>\n",
       "      <td>1188.80</td>\n",
       "    </tr>\n",
       "    <tr>\n",
       "      <th>4223</th>\n",
       "      <td>4224</td>\n",
       "      <td>903.14</td>\n",
       "      <td>1483.68</td>\n",
       "    </tr>\n",
       "    <tr>\n",
       "      <th>4224</th>\n",
       "      <td>4225</td>\n",
       "      <td>1333.04</td>\n",
       "      <td>0.00</td>\n",
       "    </tr>\n",
       "    <tr>\n",
       "      <th>4225</th>\n",
       "      <td>4226</td>\n",
       "      <td>1520.25</td>\n",
       "      <td>1842.75</td>\n",
       "    </tr>\n",
       "    <tr>\n",
       "      <th>4226</th>\n",
       "      <td>4227</td>\n",
       "      <td>10660.98</td>\n",
       "      <td>265.18</td>\n",
       "    </tr>\n",
       "  </tbody>\n",
       "</table>\n",
       "<p>4227 rows × 3 columns</p>\n",
       "</div>"
      ],
      "text/plain": [
       "      ID_its   1650_59  1660_69\n",
       "0          1      0.00     0.00\n",
       "1          2    662.01     0.00\n",
       "2          3    191.36     0.00\n",
       "3          4   1625.28     0.00\n",
       "4          5    475.62     0.00\n",
       "...      ...       ...      ...\n",
       "4222    4223     67.85  1188.80\n",
       "4223    4224    903.14  1483.68\n",
       "4224    4225   1333.04     0.00\n",
       "4225    4226   1520.25  1842.75\n",
       "4226    4227  10660.98   265.18\n",
       "\n",
       "[4227 rows x 3 columns]"
      ]
     },
     "execution_count": 14,
     "metadata": {},
     "output_type": "execute_result"
    }
   ],
   "source": [
    "df = pd.read_csv(\"./data/bootstrap_its.csv\")\n",
    "df"
   ]
  },
  {
   "cell_type": "markdown",
   "metadata": {},
   "source": [
    "### Your turn\n",
    "\n",
    "Calculate the p value for the bootstrap_*.csv data sets using Brezina's method. (Note that SciPy includes a `boostrap` method, but it differs from Brezina's definition.)\n",
    "\n",
    "Be sure to calculate Cohen's _d_ and the 95% Confidence Interval as well. Are your results the same as Brezina's?"
   ]
  },
  {
   "cell_type": "code",
   "execution_count": 15,
   "metadata": {},
   "outputs": [],
   "source": [
    "data1=df['1650_59']\n",
    "data2=df['1660_69']\n",
    "import numpy as np"
   ]
  },
  {
   "cell_type": "code",
   "execution_count": null,
   "metadata": {},
   "outputs": [
    {
     "name": "stdout",
     "output_type": "stream",
     "text": [
      "p-value: 0.00023651844843897824\n"
     ]
    }
   ],
   "source": [
    "def H(x, y):\n",
    "    if x < y:\n",
    "        return 0.0\n",
    "    elif x == y:\n",
    "        return 0.5\n",
    "    else:\n",
    "        return 1.0\n",
    "\n",
    "def p1(data1, data2, N:int):\n",
    "    hVal = []\n",
    "    for i in range(0,N):\n",
    "        sample1 = np.random.choice(data1, size=len(data1), replace=True)\n",
    "        sample2 = np.random.choice(data2, size=len(data2), replace=True)\n",
    "        \n",
    "        stat1 = np.mean(sample1)\n",
    "        stat2 = np.mean(sample2)\n",
    "        \n",
    "        h = H(stat1, stat2)\n",
    "        hVal.append(h)\n",
    "    \n",
    "    return np.mean(hVal)\n",
    "\n",
    "def bootstrap_p_value(data1, data2, N):\n",
    "    p1_value = p1(data1, data2, N)\n",
    "    p1_min = min(p1_value, 1 - p1_value)\n",
    "    p = (1 + 2 * N * p1_min)/(1 + N)\n",
    "    return p\n",
    "\n",
    "p_val = bootstrap_p_value(data1, data2, 4227)\n",
    "print(f\"p-value: {p_val}\")"
   ]
  },
  {
   "cell_type": "code",
   "execution_count": 24,
   "metadata": {},
   "outputs": [
    {
     "name": "stdout",
     "output_type": "stream",
     "text": [
      "Cohen's d: -0.10027441938146146\n"
     ]
    }
   ],
   "source": [
    "def cohen_d(x1, x2):\n",
    "    n1 = len(x1)\n",
    "    n2 = len(x2)\n",
    "\n",
    "    mean1 = np.mean(x1)\n",
    "    mean2 = np.mean(x2)\n",
    "\n",
    "    s1 = np.std(x1, ddof = 1)\n",
    "    s2 = np.std(x2, ddof = 1)\n",
    "\n",
    "    sPool = np.sqrt(((n1-1)*s1**2 + (n2 - 1)*s2**2) / (n1+n2-2))\n",
    "\n",
    "    d = (mean1 - mean2)/sPool\n",
    "    return d\n",
    "\n",
    "print(f\"Cohen's d: {cohen_d(data1,data2)}\")"
   ]
  },
  {
   "cell_type": "code",
   "execution_count": 32,
   "metadata": {},
   "outputs": [
    {
     "name": "stdout",
     "output_type": "stream",
     "text": [
      "95% confidence interval for Cohen's d: (np.float64(-0.1434693979728853), np.float64(-0.05792234223719922))\n"
     ]
    }
   ],
   "source": [
    "def bootstrap_d(x1, x2, N = 4227):\n",
    "    d_values = []\n",
    "    n1 = len(x1)\n",
    "    n2 = len(x2)\n",
    "    \n",
    "    pooled = np.concatenate([x1, x2])\n",
    "\n",
    "    for i in range (0, 4227):\n",
    "        resam1 = np.random.choice(x1, size=n1, replace = True)\n",
    "        resam2 = np.random.choice(x2, size=n2, replace = True)\n",
    "\n",
    "        d = cohen_d(resam1, resam2)\n",
    "        d_values.append(d)\n",
    "\n",
    "    d_values = np.sort(d_values)\n",
    "    lowerbound = np.percentile(d_values, 2.5)\n",
    "    upperbound = np.percentile(d_values, 97.5)\n",
    "\n",
    "    return (lowerbound, upperbound)\n",
    "\n",
    "    \n",
    "print(f\"95% confidence interval for Cohen's d: {bootstrap_d(data1, data2, 4227)}\")"
   ]
  }
 ],
 "metadata": {
  "kernelspec": {
   "display_name": "Python 3",
   "language": "python",
   "name": "python3"
  },
  "language_info": {
   "codemirror_mode": {
    "name": "ipython",
    "version": 3
   },
   "file_extension": ".py",
   "mimetype": "text/x-python",
   "name": "python",
   "nbconvert_exporter": "python",
   "pygments_lexer": "ipython3",
   "version": "3.12.4"
  }
 },
 "nbformat": 4,
 "nbformat_minor": 2
}
